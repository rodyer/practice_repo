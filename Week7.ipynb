{
  "nbformat": 4,
  "nbformat_minor": 0,
  "metadata": {
    "anaconda-cloud": {},
    "colab": {
      "name": "Week7_LinearRegression_Homework[1].ipynb",
      "provenance": [],
      "collapsed_sections": []
    },
    "kernelspec": {
      "display_name": "Python 3",
      "language": "python",
      "name": "python3"
    },
    "language_info": {
      "codemirror_mode": {
        "name": "ipython",
        "version": 3
      },
      "file_extension": ".py",
      "mimetype": "text/x-python",
      "name": "python",
      "nbconvert_exporter": "python",
      "pygments_lexer": "ipython3",
      "version": "3.7.3"
    }
  },
  "cells": [
    {
      "cell_type": "markdown",
      "metadata": {
        "colab_type": "text",
        "id": "o-CrO0eeDHXi"
      },
      "source": [
        "## Week7 LinearRegression\n",
        "\n",
        "In week 7, we've covered:\n",
        "* Simple linear regression\n",
        "* Multiple linear regression\n",
        "* Model evaluation\n",
        "* Build linear regression model with Sklearn  \n",
        "  \n",
        "  \n",
        "In this notebook,  we will work on the Boston housing dataset and  build a linear regression model to predict value of houses. \n",
        "\n",
        "The dataset for this project originates from the [UCI Machine Learning Repository](https://archive.ics.uci.edu/ml/machine-learning-databases/housing/). The Boston housing data was collected in 1978 and each of the 506 entries represent aggregated data about 14 features for homes from various suburbs in Boston, Massachusetts. For the purposes of this project, the following preprocessing steps have been made to the dataset:\n",
        "- 16 data points have an `'MEDV'` value of 50.0. These data points likely contain **missing or censored values** and have been removed.\n",
        "- 1 data point has an `'RM'` value of 8.78. This data point can be considered an **outlier** and has been removed.\n",
        "- The features `'RM'`, `'LSTAT'`, `'PTRATIO'`, and `'MEDV'` are essential. The remaining **non-relevant features** have been excluded.\n",
        "- The feature `'MEDV'` has been **multiplicatively scaled** to account for 35 years of market inflation.  \n",
        "  \n",
        "  \n",
        "A model trained on this data that is seen as a *good fit* could then be used to make certain predictions about a home — in particular, its monetary value. This model would prove to be invaluable for someone like a real estate agent who could make use of such information on a daily basis.  \n",
        "  \n",
        "  \n",
        "Instructions will be provided for each section and the specifics of the implementation are marked in the code block with a **TODO** statement and \"____\"\n",
        ".\n",
        "\n",
        ">**Note:** Code and Markdown cells can be executed using the **Shift + Enter** keyboard shortcut. In addition, Markdown cells can be edited by typically double-clicking the cell to enter edit mode."
      ]
    },
    {
      "cell_type": "markdown",
      "metadata": {
        "id": "720b3aworK0D",
        "colab_type": "text"
      },
      "source": [
        "Upload **Week7_LinearRegression_Homework.ipynb** and **housing.csv** to Google Drive."
      ]
    },
    {
      "cell_type": "code",
      "metadata": {
        "colab_type": "code",
        "id": "EOPLgkVrNhet",
        "outputId": "6951dc80-9200-477e-8bf6-feda8168f880",
        "colab": {
          "base_uri": "https://localhost:8080/",
          "height": 34
        }
      },
      "source": [
        "# Mount your Google Drive on your runtime using an authorization code\n",
        "from google.colab import drive\n",
        "drive.mount('/content/drive')"
      ],
      "execution_count": 2,
      "outputs": [
        {
          "output_type": "stream",
          "text": [
            "Drive already mounted at /content/drive; to attempt to forcibly remount, call drive.mount(\"/content/drive\", force_remount=True).\n"
          ],
          "name": "stdout"
        }
      ]
    },
    {
      "cell_type": "markdown",
      "metadata": {
        "colab_type": "text",
        "id": "Wm1lijMASx2f"
      },
      "source": [
        "**TODO**: Replace **`YourFolderName`**  below with the folder name on your google drive where you put the `housing.csv` file. Run the cell, check if `housing.csv` is listed."
      ]
    },
    {
      "cell_type": "code",
      "metadata": {
        "colab_type": "code",
        "id": "g-Wrtw44R766",
        "colab": {
          "base_uri": "https://localhost:8080/",
          "height": 425
        },
        "outputId": "dc88e962-d13c-4c9f-e398-ea12da9d7f99"
      },
      "source": [
        "!ls /content/drive/My\\ Drive/'Colab Notebooks'"
      ],
      "execution_count": 11,
      "outputs": [
        {
          "output_type": "stream",
          "text": [
            "'Copy of Week3_PythonProgramming_Homework.ipynb'\n",
            "'homegrown-2019-master (3).zip'\n",
            "'homegrown-2019-master (4).zip'\n",
            " homegrown-2019-master.zip\n",
            "'housing[1].csv'\n",
            " Untitled0.ipynb\n",
            " Untitled1.ipynb\n",
            " Untitled2.ipynb\n",
            "'Week1_PythonProgramming_Homework[1].ipynb'\n",
            "'Week2_PythonProgramming_Homework (1).ipynb'\n",
            "'Week2_PythonProgramming_Homework (2).ipynb'\n",
            "'Week2_PythonProgramming_Homework (3).ipynb'\n",
            " Week2_PythonProgramming_Homework.ipynb\n",
            " Week3_PythonProgramming_Homework.ipynb\n",
            " Week4_HomeWork.ipynb\n",
            "'Week4_PythonProgramming_Homework[1].ipynb'\n",
            "'Week4_PythonProgramming_Homework_Solution[1].ipynb'\n",
            "'Week5_PythonProgramming_Homework[1].ipynb'\n",
            " Week5_PythonProgramming_Homework.ipynb\n",
            "'Week5_PythonProgramming_Homework_Solution[1].ipynb'\n",
            "'Week6_intro_to_visualization[1].ipynb'\n",
            "'Week6_intro_to_visualization_solution[1].ipynb'\n",
            "'Week7_LinearRegression_Homework[1] (1).ipynb'\n",
            "'Week7_LinearRegression_Homework[1].ipynb'\n"
          ],
          "name": "stdout"
        }
      ]
    },
    {
      "cell_type": "markdown",
      "metadata": {
        "colab_type": "text",
        "id": "rcJQfhe7Nt31"
      },
      "source": [
        "----\n",
        "## 1. Import Libraries\n",
        "Import pandas, numpy, matplotlib and seaborn. Then set %matplotlib inline."
      ]
    },
    {
      "cell_type": "code",
      "metadata": {
        "colab_type": "code",
        "id": "699AhjeHOAMG",
        "colab": {}
      },
      "source": [
        "import pandas as pd\n",
        "import matplotlib.pyplot as plt\n",
        "import numpy as np\n",
        "import seaborn as sns\n",
        "%matplotlib inline"
      ],
      "execution_count": 0,
      "outputs": []
    },
    {
      "cell_type": "markdown",
      "metadata": {
        "colab_type": "text",
        "id": "4Q3Ae4OFOB3W"
      },
      "source": [
        "---\n",
        "## 2. Load Data\n",
        "Read in the housing.csv file as a DataFrame called `data`."
      ]
    },
    {
      "cell_type": "code",
      "metadata": {
        "colab_type": "code",
        "id": "d6qzORRmOMRP",
        "colab": {
          "base_uri": "https://localhost:8080/",
          "height": 34
        },
        "outputId": "768deca4-c3b4-4aeb-fc0e-15ee87ebabe0"
      },
      "source": [
        "# TODO Replace YourFolderName with the folder name on your google drive\n",
        "\n",
        "import pandas as pd\n",
        "data = pd.read_csv('/content/drive/My Drive/Colab Notebooks/housing[1].csv')\n",
        "\n",
        "\n",
        "# Success\n",
        "print(\"Boston housing dataset has {} data points with {} columns.\".format(*data.shape))"
      ],
      "execution_count": 15,
      "outputs": [
        {
          "output_type": "stream",
          "text": [
            "Boston housing dataset has 489 data points with 4 columns.\n"
          ],
          "name": "stdout"
        }
      ]
    },
    {
      "cell_type": "markdown",
      "metadata": {
        "colab_type": "text",
        "id": "p80qXybvOZTm"
      },
      "source": [
        "---\n",
        "## 3. Expplore Data"
      ]
    },
    {
      "cell_type": "markdown",
      "metadata": {
        "colab_type": "text",
        "id": "lldfNrZxPohF"
      },
      "source": [
        "Check the head of `data`, and check out its `info()` and `describe()`methods."
      ]
    },
    {
      "cell_type": "code",
      "metadata": {
        "colab_type": "code",
        "id": "I_I84oY1OZBl",
        "colab": {
          "base_uri": "https://localhost:8080/",
          "height": 204
        },
        "outputId": "3117b616-06cf-4f8b-c7ae-71ac2308a520"
      },
      "source": [
        "\n",
        "data.head()"
      ],
      "execution_count": 18,
      "outputs": [
        {
          "output_type": "execute_result",
          "data": {
            "text/html": [
              "<div>\n",
              "<style scoped>\n",
              "    .dataframe tbody tr th:only-of-type {\n",
              "        vertical-align: middle;\n",
              "    }\n",
              "\n",
              "    .dataframe tbody tr th {\n",
              "        vertical-align: top;\n",
              "    }\n",
              "\n",
              "    .dataframe thead th {\n",
              "        text-align: right;\n",
              "    }\n",
              "</style>\n",
              "<table border=\"1\" class=\"dataframe\">\n",
              "  <thead>\n",
              "    <tr style=\"text-align: right;\">\n",
              "      <th></th>\n",
              "      <th>RM</th>\n",
              "      <th>LSTAT</th>\n",
              "      <th>PTRATIO</th>\n",
              "      <th>MEDV</th>\n",
              "    </tr>\n",
              "  </thead>\n",
              "  <tbody>\n",
              "    <tr>\n",
              "      <th>0</th>\n",
              "      <td>6.575</td>\n",
              "      <td>4.98</td>\n",
              "      <td>15.3</td>\n",
              "      <td>504000.0</td>\n",
              "    </tr>\n",
              "    <tr>\n",
              "      <th>1</th>\n",
              "      <td>6.421</td>\n",
              "      <td>9.14</td>\n",
              "      <td>17.8</td>\n",
              "      <td>453600.0</td>\n",
              "    </tr>\n",
              "    <tr>\n",
              "      <th>2</th>\n",
              "      <td>7.185</td>\n",
              "      <td>4.03</td>\n",
              "      <td>17.8</td>\n",
              "      <td>728700.0</td>\n",
              "    </tr>\n",
              "    <tr>\n",
              "      <th>3</th>\n",
              "      <td>6.998</td>\n",
              "      <td>2.94</td>\n",
              "      <td>18.7</td>\n",
              "      <td>701400.0</td>\n",
              "    </tr>\n",
              "    <tr>\n",
              "      <th>4</th>\n",
              "      <td>7.147</td>\n",
              "      <td>5.33</td>\n",
              "      <td>18.7</td>\n",
              "      <td>760200.0</td>\n",
              "    </tr>\n",
              "  </tbody>\n",
              "</table>\n",
              "</div>"
            ],
            "text/plain": [
              "      RM  LSTAT  PTRATIO      MEDV\n",
              "0  6.575   4.98     15.3  504000.0\n",
              "1  6.421   9.14     17.8  453600.0\n",
              "2  7.185   4.03     17.8  728700.0\n",
              "3  6.998   2.94     18.7  701400.0\n",
              "4  7.147   5.33     18.7  760200.0"
            ]
          },
          "metadata": {
            "tags": []
          },
          "execution_count": 18
        }
      ]
    },
    {
      "cell_type": "code",
      "metadata": {
        "id": "DdLvd4wYwxhP",
        "colab_type": "code",
        "colab": {
          "base_uri": "https://localhost:8080/",
          "height": 170
        },
        "outputId": "bf94addb-e5c9-4669-82f9-633bf8b7c469"
      },
      "source": [
        "data.info()"
      ],
      "execution_count": 19,
      "outputs": [
        {
          "output_type": "stream",
          "text": [
            "<class 'pandas.core.frame.DataFrame'>\n",
            "RangeIndex: 489 entries, 0 to 488\n",
            "Data columns (total 4 columns):\n",
            "RM         489 non-null float64\n",
            "LSTAT      489 non-null float64\n",
            "PTRATIO    489 non-null float64\n",
            "MEDV       489 non-null float64\n",
            "dtypes: float64(4)\n",
            "memory usage: 15.4 KB\n"
          ],
          "name": "stdout"
        }
      ]
    },
    {
      "cell_type": "code",
      "metadata": {
        "id": "5lQu5Pnzw0NC",
        "colab_type": "code",
        "colab": {
          "base_uri": "https://localhost:8080/",
          "height": 297
        },
        "outputId": "7e3e83d0-3720-4403-a216-2335e64734d5"
      },
      "source": [
        "\n",
        "data.describe()"
      ],
      "execution_count": 20,
      "outputs": [
        {
          "output_type": "execute_result",
          "data": {
            "text/html": [
              "<div>\n",
              "<style scoped>\n",
              "    .dataframe tbody tr th:only-of-type {\n",
              "        vertical-align: middle;\n",
              "    }\n",
              "\n",
              "    .dataframe tbody tr th {\n",
              "        vertical-align: top;\n",
              "    }\n",
              "\n",
              "    .dataframe thead th {\n",
              "        text-align: right;\n",
              "    }\n",
              "</style>\n",
              "<table border=\"1\" class=\"dataframe\">\n",
              "  <thead>\n",
              "    <tr style=\"text-align: right;\">\n",
              "      <th></th>\n",
              "      <th>RM</th>\n",
              "      <th>LSTAT</th>\n",
              "      <th>PTRATIO</th>\n",
              "      <th>MEDV</th>\n",
              "    </tr>\n",
              "  </thead>\n",
              "  <tbody>\n",
              "    <tr>\n",
              "      <th>count</th>\n",
              "      <td>489.000000</td>\n",
              "      <td>489.000000</td>\n",
              "      <td>489.000000</td>\n",
              "      <td>4.890000e+02</td>\n",
              "    </tr>\n",
              "    <tr>\n",
              "      <th>mean</th>\n",
              "      <td>6.240288</td>\n",
              "      <td>12.939632</td>\n",
              "      <td>18.516564</td>\n",
              "      <td>4.543429e+05</td>\n",
              "    </tr>\n",
              "    <tr>\n",
              "      <th>std</th>\n",
              "      <td>0.643650</td>\n",
              "      <td>7.081990</td>\n",
              "      <td>2.111268</td>\n",
              "      <td>1.653403e+05</td>\n",
              "    </tr>\n",
              "    <tr>\n",
              "      <th>min</th>\n",
              "      <td>3.561000</td>\n",
              "      <td>1.980000</td>\n",
              "      <td>12.600000</td>\n",
              "      <td>1.050000e+05</td>\n",
              "    </tr>\n",
              "    <tr>\n",
              "      <th>25%</th>\n",
              "      <td>5.880000</td>\n",
              "      <td>7.370000</td>\n",
              "      <td>17.400000</td>\n",
              "      <td>3.507000e+05</td>\n",
              "    </tr>\n",
              "    <tr>\n",
              "      <th>50%</th>\n",
              "      <td>6.185000</td>\n",
              "      <td>11.690000</td>\n",
              "      <td>19.100000</td>\n",
              "      <td>4.389000e+05</td>\n",
              "    </tr>\n",
              "    <tr>\n",
              "      <th>75%</th>\n",
              "      <td>6.575000</td>\n",
              "      <td>17.120000</td>\n",
              "      <td>20.200000</td>\n",
              "      <td>5.187000e+05</td>\n",
              "    </tr>\n",
              "    <tr>\n",
              "      <th>max</th>\n",
              "      <td>8.398000</td>\n",
              "      <td>37.970000</td>\n",
              "      <td>22.000000</td>\n",
              "      <td>1.024800e+06</td>\n",
              "    </tr>\n",
              "  </tbody>\n",
              "</table>\n",
              "</div>"
            ],
            "text/plain": [
              "               RM       LSTAT     PTRATIO          MEDV\n",
              "count  489.000000  489.000000  489.000000  4.890000e+02\n",
              "mean     6.240288   12.939632   18.516564  4.543429e+05\n",
              "std      0.643650    7.081990    2.111268  1.653403e+05\n",
              "min      3.561000    1.980000   12.600000  1.050000e+05\n",
              "25%      5.880000    7.370000   17.400000  3.507000e+05\n",
              "50%      6.185000   11.690000   19.100000  4.389000e+05\n",
              "75%      6.575000   17.120000   20.200000  5.187000e+05\n",
              "max      8.398000   37.970000   22.000000  1.024800e+06"
            ]
          },
          "metadata": {
            "tags": []
          },
          "execution_count": 20
        }
      ]
    },
    {
      "cell_type": "markdown",
      "metadata": {
        "colab_type": "text",
        "id": "FnhKfVdbDHXm"
      },
      "source": [
        "Since the main goal of this project is to construct a working model which has the capability of predicting the value of houses, we will need to separate the dataset into **features** and the **target variable**.  \n",
        "  \n",
        "\n",
        "The **features**, `'RM'`, `'LSTAT'`, and `'PTRATIO'`, give us quantitative information about each data point.   \n",
        "- `'RM'` is the average number of rooms among homes in the neighborhood.\n",
        "- `'LSTAT'` is the percentage of homeowners in the neighborhood considered \"lower class\" (working poor).\n",
        "- `'PTRATIO'` is the ratio of students to teachers in primary and secondary schools in the neighborhood.   \n",
        "  \n",
        "The **target variable**, `'MEDV'`, will be the variable we seek to predict.  \n",
        "\n",
        "These are stored in **features** and **prices**, respectively."
      ]
    },
    {
      "cell_type": "code",
      "metadata": {
        "colab_type": "code",
        "id": "QblQKHpGZE3_",
        "colab": {
          "base_uri": "https://localhost:8080/",
          "height": 204
        },
        "outputId": "24970956-a135-41b5-c9cf-ab958a7b4183"
      },
      "source": [
        "# TODO  \n",
        "\n",
        "prices = data[\"MEDV\"] #target\n",
        "features = data.drop(columns=['MEDV']) #feature\n",
        "features.head() "
      ],
      "execution_count": 30,
      "outputs": [
        {
          "output_type": "execute_result",
          "data": {
            "text/html": [
              "<div>\n",
              "<style scoped>\n",
              "    .dataframe tbody tr th:only-of-type {\n",
              "        vertical-align: middle;\n",
              "    }\n",
              "\n",
              "    .dataframe tbody tr th {\n",
              "        vertical-align: top;\n",
              "    }\n",
              "\n",
              "    .dataframe thead th {\n",
              "        text-align: right;\n",
              "    }\n",
              "</style>\n",
              "<table border=\"1\" class=\"dataframe\">\n",
              "  <thead>\n",
              "    <tr style=\"text-align: right;\">\n",
              "      <th></th>\n",
              "      <th>RM</th>\n",
              "      <th>LSTAT</th>\n",
              "      <th>PTRATIO</th>\n",
              "    </tr>\n",
              "  </thead>\n",
              "  <tbody>\n",
              "    <tr>\n",
              "      <th>0</th>\n",
              "      <td>6.575</td>\n",
              "      <td>4.98</td>\n",
              "      <td>15.3</td>\n",
              "    </tr>\n",
              "    <tr>\n",
              "      <th>1</th>\n",
              "      <td>6.421</td>\n",
              "      <td>9.14</td>\n",
              "      <td>17.8</td>\n",
              "    </tr>\n",
              "    <tr>\n",
              "      <th>2</th>\n",
              "      <td>7.185</td>\n",
              "      <td>4.03</td>\n",
              "      <td>17.8</td>\n",
              "    </tr>\n",
              "    <tr>\n",
              "      <th>3</th>\n",
              "      <td>6.998</td>\n",
              "      <td>2.94</td>\n",
              "      <td>18.7</td>\n",
              "    </tr>\n",
              "    <tr>\n",
              "      <th>4</th>\n",
              "      <td>7.147</td>\n",
              "      <td>5.33</td>\n",
              "      <td>18.7</td>\n",
              "    </tr>\n",
              "  </tbody>\n",
              "</table>\n",
              "</div>"
            ],
            "text/plain": [
              "      RM  LSTAT  PTRATIO\n",
              "0  6.575   4.98     15.3\n",
              "1  6.421   9.14     17.8\n",
              "2  7.185   4.03     17.8\n",
              "3  6.998   2.94     18.7\n",
              "4  7.147   5.33     18.7"
            ]
          },
          "metadata": {
            "tags": []
          },
          "execution_count": 30
        }
      ]
    },
    {
      "cell_type": "markdown",
      "metadata": {
        "colab_type": "text",
        "id": "ycjtGbanDHXn"
      },
      "source": [
        "Calculate Statistics\n",
        "- Calculate the minimum, maximum, mean, median, and standard deviation of `'MEDV'`, which is stored in **prices**.\n",
        "- Store each calculation in their respective variable.\n",
        "- Use `numpy` to perform the necessary calcualtions."
      ]
    },
    {
      "cell_type": "code",
      "metadata": {
        "colab_type": "code",
        "id": "ObG8IO4uDHXn",
        "colab": {
          "base_uri": "https://localhost:8080/",
          "height": 136
        },
        "outputId": "504d1fb3-9a89-44dc-e366-1aaff6fd56f0"
      },
      "source": [
        "# TODO: Minimum price of the data\n",
        "minimum_price = min(prices)\n",
        "\n",
        "# TODO: Maximum price of the data\n",
        "maximum_price = max(prices)\n",
        "# TODO: Mean price of the data\n",
        "mean_price = round(prices.mean(),2)\n",
        "\n",
        "# TODO: Median price of the data\n",
        "median_price = prices.median()\n",
        "\n",
        "# TODO: Standard deviation of prices of the data\n",
        "std_price = round(prices.std(),2)\n",
        "\n",
        "# Show the calculated statistics\n",
        "print(\"Statistics for Boston housing dataset:\\n\")\n",
        "print(\"Minimum price: ${}\".format(minimum_price)) \n",
        "print(\"Maximum price: ${}\".format(maximum_price))\n",
        "print(\"Mean price: ${}\".format(mean_price))\n",
        "print(\"Median price ${}\".format(median_price))\n",
        "print(\"Standard deviation of prices: ${}\".format(std_price))"
      ],
      "execution_count": 34,
      "outputs": [
        {
          "output_type": "stream",
          "text": [
            "Statistics for Boston housing dataset:\n",
            "\n",
            "Minimum price: $105000.0\n",
            "Maximum price: $1024800.0\n",
            "Mean price: $454342.94\n",
            "Median price $438900.0\n",
            "Standard deviation of prices: $165340.28\n"
          ],
          "name": "stdout"
        }
      ]
    },
    {
      "cell_type": "markdown",
      "metadata": {
        "colab_type": "text",
        "id": "xbabB6a2DHXp"
      },
      "source": [
        "Observe features\n",
        "\n",
        "For each of the three features **RM**, **LSTAT**, **PTRATIO**:\n",
        "  * Do you think that an increase in the value of that feature would lead to an **increase** in the value of `'MEDV'` or a **decrease** in the value of `'MEDV'`? \n",
        "  * Show the data using appropriate plot and justify your answer for each."
      ]
    },
    {
      "cell_type": "code",
      "metadata": {
        "colab_type": "code",
        "id": "sQ8PrHK_DHXq",
        "colab": {
          "base_uri": "https://localhost:8080/",
          "height": 677
        },
        "outputId": "9f950119-7dec-421e-a062-5915759d5f13"
      },
      "source": [
        "plt.figure(figsize=(5,10))\n",
        "\n",
        "print('RM: An increase in the average number of rooms per household would increase the value of MEDV or price.')\n",
        "plt.subplot(311) #311 = abc where ab = axb grid and c = position\n",
        "plt.plot(data['RM'], prices, 'o');\n",
        "plt.ylabel('Prices')\n",
        "plt.xlabel('avg. number of rooms')\n",
        "\n",
        "\n",
        "\n",
        "print('LSTAT: An increase in the number of households considered low class would decrease the value of MEDV or price.')\n",
        "plt.subplot(312)\n",
        "plt.plot(data['LSTAT'], prices, 'o')\n",
        "plt.ylabel('Prices')\n",
        "plt.xlabel('% of low class homeowners')\n",
        "\n",
        "\n",
        "print('PTRATIO: An increase in the ratio of students to teachers would have no affect on the pricing or MEDV of households.')\n",
        "plt.subplot(313)\n",
        "plt.plot(data['PTRATIO'], prices, 'o')\n",
        "plt.ylabel('Prices')\n",
        "plt.xlabel('students to teacher ratio')\n"
      ],
      "execution_count": 139,
      "outputs": [
        {
          "output_type": "stream",
          "text": [
            "RM: An increase in the average number of rooms per household would increase the value of MEDV or price.\n",
            "LSTAT: An increase in the number of households considered low class would decrease the value of MEDV or price.\n",
            "PTRATIO: An increase in the ratio of students to teachers would have no affect on the pricing or MEDV of households.\n"
          ],
          "name": "stdout"
        },
        {
          "output_type": "execute_result",
          "data": {
            "text/plain": [
              "Text(0.5, 0, 'students to teacher ratio')"
            ]
          },
          "metadata": {
            "tags": []
          },
          "execution_count": 139
        },
        {
          "output_type": "display_data",
          "data": {
            "image/png": "[encoded data removed]",
            "text/plain": [
              "<Figure size 360x720 with 3 Axes>"
            ]
          },
          "metadata": {
            "tags": []
          }
        }
      ]
    },
    {
      "cell_type": "markdown",
      "metadata": {
        "colab_type": "text",
        "id": "h0f5A4FaDHXs"
      },
      "source": [
        "**Answer**:    "
      ]
    },
    {
      "cell_type": "markdown",
      "metadata": {
        "colab_type": "text",
        "id": "Bj79xbTWDHXt"
      },
      "source": [
        "----\n",
        "\n",
        "## 4. Develope a Model"
      ]
    },
    {
      "cell_type": "markdown",
      "metadata": {
        "colab_type": "text",
        "id": "4YkO_pRUDHXt"
      },
      "source": [
        "Split data to get training and testing Data."
      ]
    },
    {
      "cell_type": "code",
      "metadata": {
        "colab_type": "code",
        "id": "7UZ4Sv9yDHXu",
        "colab": {}
      },
      "source": [
        "# TODO\n",
        "from sklearn.model_selection import train_test_split\n",
        "X_train, X_test, y_train, y_test = train_test_split(features,prices, test_size=0.2 , random_state=99) #default test size 25/75 #random state - why not 42 recommended?\n"
      ],
      "execution_count": 0,
      "outputs": []
    },
    {
      "cell_type": "markdown",
      "metadata": {
        "colab_type": "text",
        "id": "8wRkFJgqgzQ0"
      },
      "source": [
        "Train the Model."
      ]
    },
    {
      "cell_type": "code",
      "metadata": {
        "colab_type": "code",
        "id": "SgF86DJVg8xA",
        "colab": {}
      },
      "source": [
        "\n",
        "from sklearn.linear_model import LinearRegression\n",
        "lm = LinearRegression()"
      ],
      "execution_count": 0,
      "outputs": []
    },
    {
      "cell_type": "markdown",
      "metadata": {
        "colab_type": "text",
        "id": "l5E8OPLuhIcx"
      },
      "source": [
        "Train/fit **lm** on the training data."
      ]
    },
    {
      "cell_type": "code",
      "metadata": {
        "colab_type": "code",
        "id": "Jx6Jto72hRSG",
        "colab": {
          "base_uri": "https://localhost:8080/",
          "height": 34
        },
        "outputId": "171ddecf-1ae4-4610-8be1-a91bff501329"
      },
      "source": [
        "\n",
        "lm.fit(X_train,y_train)\n"
      ],
      "execution_count": 57,
      "outputs": [
        {
          "output_type": "execute_result",
          "data": {
            "text/plain": [
              "LinearRegression(copy_X=True, fit_intercept=True, n_jobs=None, normalize=False)"
            ]
          },
          "metadata": {
            "tags": []
          },
          "execution_count": 57
        }
      ]
    },
    {
      "cell_type": "markdown",
      "metadata": {
        "colab_type": "text",
        "id": "3-EQi0yniFee"
      },
      "source": [
        "Print out the coefficients of the model, use **.coef_**."
      ]
    },
    {
      "cell_type": "code",
      "metadata": {
        "colab_type": "code",
        "id": "s0i1K97MiEcA",
        "colab": {
          "base_uri": "https://localhost:8080/",
          "height": 34
        },
        "outputId": "aa710cfd-3747-415a-e33e-e3dd2a7db3d9"
      },
      "source": [
        "\n",
        "lm.coef_\n"
      ],
      "execution_count": 58,
      "outputs": [
        {
          "output_type": "execute_result",
          "data": {
            "text/plain": [
              "array([ 78438.74432206, -11562.08759587, -21860.06838306])"
            ]
          },
          "metadata": {
            "tags": []
          },
          "execution_count": 58
        }
      ]
    },
    {
      "cell_type": "markdown",
      "metadata": {
        "colab_type": "text",
        "id": "ZIqo50ALiPsh"
      },
      "source": [
        "Display a dataframe with the features and their corresponding coefficients in descending order. Think about how would you interprete the results here."
      ]
    },
    {
      "cell_type": "code",
      "metadata": {
        "colab_type": "code",
        "id": "cyexS-h0iQNE",
        "colab": {
          "base_uri": "https://localhost:8080/",
          "height": 142
        },
        "outputId": "f457043e-fb98-48b7-94ab-8eb5a790e8f9"
      },
      "source": [
        "df = pd.DataFrame({\"Feature\": features.columns, \"Coef\": lm.coef_}, \n",
        "                       columns=[\"Feature\", \"Coef\"])\n",
        "\n",
        "df.sort_values(by=['Coef'], ascending = False)"
      ],
      "execution_count": 67,
      "outputs": [
        {
          "output_type": "execute_result",
          "data": {
            "text/html": [
              "<div>\n",
              "<style scoped>\n",
              "    .dataframe tbody tr th:only-of-type {\n",
              "        vertical-align: middle;\n",
              "    }\n",
              "\n",
              "    .dataframe tbody tr th {\n",
              "        vertical-align: top;\n",
              "    }\n",
              "\n",
              "    .dataframe thead th {\n",
              "        text-align: right;\n",
              "    }\n",
              "</style>\n",
              "<table border=\"1\" class=\"dataframe\">\n",
              "  <thead>\n",
              "    <tr style=\"text-align: right;\">\n",
              "      <th></th>\n",
              "      <th>Feature</th>\n",
              "      <th>Coef</th>\n",
              "    </tr>\n",
              "  </thead>\n",
              "  <tbody>\n",
              "    <tr>\n",
              "      <th>0</th>\n",
              "      <td>RM</td>\n",
              "      <td>78438.744322</td>\n",
              "    </tr>\n",
              "    <tr>\n",
              "      <th>1</th>\n",
              "      <td>LSTAT</td>\n",
              "      <td>-11562.087596</td>\n",
              "    </tr>\n",
              "    <tr>\n",
              "      <th>2</th>\n",
              "      <td>PTRATIO</td>\n",
              "      <td>-21860.068383</td>\n",
              "    </tr>\n",
              "  </tbody>\n",
              "</table>\n",
              "</div>"
            ],
            "text/plain": [
              "   Feature          Coef\n",
              "0       RM  78438.744322\n",
              "1    LSTAT -11562.087596\n",
              "2  PTRATIO -21860.068383"
            ]
          },
          "metadata": {
            "tags": []
          },
          "execution_count": 67
        }
      ]
    },
    {
      "cell_type": "markdown",
      "metadata": {
        "colab_type": "text",
        "id": "r7OAaVDIi1mK"
      },
      "source": [
        "## 5. Predict the Test Data\n",
        "\n",
        "Now we have a trained model, let's make some predictions and evaluate the model's performance."
      ]
    },
    {
      "cell_type": "markdown",
      "metadata": {
        "colab_type": "text",
        "id": "p8yMx7v_kNwH"
      },
      "source": [
        "Use **lm.predict( )** to predict the prices for **X_test** data set."
      ]
    },
    {
      "cell_type": "code",
      "metadata": {
        "colab_type": "code",
        "id": "941FZ-NIklME",
        "colab": {}
      },
      "source": [
        "predict = lm.predict(X_test)\n",
        "\n"
      ],
      "execution_count": 0,
      "outputs": []
    },
    {
      "cell_type": "markdown",
      "metadata": {
        "colab_type": "text",
        "id": "qxU2Xl7Wkm9E"
      },
      "source": [
        "Create a scatterplot of **y_test** versus the predicted values."
      ]
    },
    {
      "cell_type": "code",
      "metadata": {
        "colab_type": "code",
        "id": "Wpk6yAbskxK1",
        "colab": {
          "base_uri": "https://localhost:8080/",
          "height": 296
        },
        "outputId": "4fb946ae-0e2c-48d7-f797-f9154463be22"
      },
      "source": [
        "#print(predict.min())\n",
        "plt.scatter(y_test,predict)\n",
        "plt.xlabel('y_test')\n",
        "plt.ylabel('predicted y')\n",
        "plt.title('test vs. predicted values for y')\n",
        "plt.xlim(50000,1000000)\n",
        "plt.ylim(50000,1000000)\n",
        "plt.show()"
      ],
      "execution_count": 91,
      "outputs": [
        {
          "output_type": "display_data",
          "data": {
            "image/png": "[encoded data removed]",
            "text/plain": [
              "<Figure size 432x288 with 1 Axes>"
            ]
          },
          "metadata": {
            "tags": []
          }
        }
      ]
    },
    {
      "cell_type": "markdown",
      "metadata": {
        "colab_type": "text",
        "id": "7HCCt_TilKe0"
      },
      "source": [
        "## 6. Evaluate the Model"
      ]
    },
    {
      "cell_type": "markdown",
      "metadata": {
        "colab_type": "text",
        "id": "XZgX2R2XlpTp"
      },
      "source": [
        "Let's evaluate the model performance by calculating the $R^2$.  "
      ]
    },
    {
      "cell_type": "code",
      "metadata": {
        "colab_type": "code",
        "id": "1hUvvSWkmdi2",
        "colab": {}
      },
      "source": [
        "# TODO import r2_score\n",
        "from sklearn.metrics import r2_score\n",
        "\n",
        "def performance_metric(y_true, y_predict):\n",
        "    \"\"\" Calculates and returns the performance score between \n",
        "        true and predicted values based on the metric chosen. \"\"\"\n",
        "    \n",
        "    # TODO: Calculate the performance score between 'y_true' and 'y_predict'\n",
        "    score = r2_score(y_true,y_predict)\n",
        "    \n",
        "    # Return the score\n",
        "    return score\n",
        "  "
      ],
      "execution_count": 0,
      "outputs": []
    },
    {
      "cell_type": "markdown",
      "metadata": {
        "colab_type": "text",
        "id": "OrWSj7y0muYE"
      },
      "source": [
        "Use `Performance_metric` function to calculate the test dataset's $R^2$."
      ]
    },
    {
      "cell_type": "code",
      "metadata": {
        "colab_type": "code",
        "id": "omh7zxKinCTj",
        "colab": {
          "base_uri": "https://localhost:8080/",
          "height": 34
        },
        "outputId": "e257bca7-0968-4d4b-898a-1015d2aa7fa0"
      },
      "source": [
        "rSq = performance_metric(y_test,predict)\n",
        "print(rSq)"
      ],
      "execution_count": 101,
      "outputs": [
        {
          "output_type": "stream",
          "text": [
            "0.672336408729161\n"
          ],
          "name": "stdout"
        }
      ]
    },
    {
      "cell_type": "markdown",
      "metadata": {
        "colab_type": "text",
        "id": "wEbpNqchDHXy"
      },
      "source": [
        "Would you consider this model to have successfully captured the variation of the target variable? Why or why not?\n",
        "\n",
        "**Hint:**  \n",
        "The $R^2$ score is the proportion of the variance in the dependent variable that is predictable from the independent variable. In other words:\n",
        "* $ R^2$ score of 0 means that the dependent variable cannot be predicted from the independent variable.\n",
        "* $R^2$ score of 1 means the dependent variable can be predicted from the independent variable.\n",
        "* $R^2$ score between 0 and 1 indicates the extent to which the dependent variable is predictable. An \n",
        "* $R^2$ score of 0.40 means that 40 percent of the variance in Y is predictable from X."
      ]
    },
    {
      "cell_type": "markdown",
      "metadata": {
        "colab_type": "text",
        "id": "CenQ15UgDHXz"
      },
      "source": [
        "**Answer:** \n",
        "*I would consider this model unsuccessful. Only ~67% of the variance in Y is predictable from X, but there is stil room for improvement to get this value closer to 1.*"
      ]
    },
    {
      "cell_type": "markdown",
      "metadata": {
        "id": "rS8-wd-rrK1G",
        "colab_type": "text"
      },
      "source": [
        "## THE END, WELL DONE!"
      ]
    },
    {
      "cell_type": "markdown",
      "metadata": {
        "colab_type": "text",
        "id": "0ZvPvAgUlh6Q"
      },
      "source": [
        "## Submission"
      ]
    },
    {
      "cell_type": "markdown",
      "metadata": {
        "colab_type": "text",
        "id": "ckQTJn2uth60"
      },
      "source": [
        "Download completed **Week7_LinearRegression_Homework.ipynb** from Google Colab and commit to your personal Github repo you shared with the faculty."
      ]
    }
  ]
}