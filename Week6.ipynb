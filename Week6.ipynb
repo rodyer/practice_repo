{
  "nbformat": 4,
  "nbformat_minor": 0,
  "metadata": {
    "colab": {
      "name": "Week6_intro_to_visualization[1].ipynb",
      "provenance": [],
      "collapsed_sections": []
    },
    "kernelspec": {
      "name": "python3",
      "display_name": "Python 3"
    }
  },
  "cells": [
    {
      "cell_type": "markdown",
      "metadata": {
        "id": "GP-HalC3roLG",
        "colab_type": "text"
      },
      "source": [
        "# Visualization in Python\n",
        "\n",
        "In this project, we'll work through munging a data set and creating visualizations related to trends in the airline industry in the middle of the last century. You'll get started using [MatPlotLib](https://matplotlib.org/), a very powerful and popular plotting library in Python that is covered in this week's course materials."
      ]
    },
    {
      "cell_type": "code",
      "metadata": {
        "id": "qewntzwSpil5",
        "colab_type": "code",
        "outputId": "37d05000-3352-4502-bab0-4f7141c83d89",
        "colab": {
          "base_uri": "https://localhost:8080/",
          "height": 272
        }
      },
      "source": [
        "# Install the pydataset package. This package gives us data sets to work with very easily\n",
        "! pip install pydataset"
      ],
      "execution_count": 0,
      "outputs": [
        {
          "output_type": "stream",
          "text": [
            "Collecting pydataset\n",
            "\u001b[?25l  Downloading https://files.pythonhosted.org/packages/4f/15/548792a1bb9caf6a3affd61c64d306b08c63c8a5a49e2c2d931b67ec2108/pydataset-0.2.0.tar.gz (15.9MB)\n",
            "\u001b[K     |████████████████████████████████| 15.9MB 2.5MB/s \n",
            "\u001b[?25hRequirement already satisfied: pandas in /usr/local/lib/python3.6/dist-packages (from pydataset) (0.24.2)\n",
            "Requirement already satisfied: python-dateutil>=2.5.0 in /usr/local/lib/python3.6/dist-packages (from pandas->pydataset) (2.5.3)\n",
            "Requirement already satisfied: pytz>=2011k in /usr/local/lib/python3.6/dist-packages (from pandas->pydataset) (2018.9)\n",
            "Requirement already satisfied: numpy>=1.12.0 in /usr/local/lib/python3.6/dist-packages (from pandas->pydataset) (1.16.5)\n",
            "Requirement already satisfied: six>=1.5 in /usr/local/lib/python3.6/dist-packages (from python-dateutil>=2.5.0->pandas->pydataset) (1.12.0)\n",
            "Building wheels for collected packages: pydataset\n",
            "  Building wheel for pydataset (setup.py) ... \u001b[?25l\u001b[?25hdone\n",
            "  Created wheel for pydataset: filename=pydataset-0.2.0-cp36-none-any.whl size=15939430 sha256=d022bfa118bd0ac033733db2efbfe9bee041cc95ebe7adc1660959d294eb45c6\n",
            "  Stored in directory: /root/.cache/pip/wheels/fe/3f/dc/5d02ccc767317191b12d042dd920fcf3432fab74bc7978598b\n",
            "Successfully built pydataset\n",
            "Installing collected packages: pydataset\n",
            "Successfully installed pydataset-0.2.0\n"
          ],
          "name": "stdout"
        }
      ]
    },
    {
      "cell_type": "code",
      "metadata": {
        "id": "r3HfRWoSVIfW",
        "colab_type": "code",
        "colab": {}
      },
      "source": [
        "# The convention for importing matplotlib with an alias is \"plt\". We'll also need pandas and numpy\n",
        "\n",
        "import pandas as pd\n",
        "import matplotlib.pyplot as plt\n",
        "import numpy as np"
      ],
      "execution_count": 0,
      "outputs": []
    },
    {
      "cell_type": "markdown",
      "metadata": {
        "id": "wJt4tazuRpEL",
        "colab_type": "text"
      },
      "source": [
        "## The Air Passengers Dataset\n",
        "\n",
        "This dataset shows the number of passengers flying United States airlines by month from 1949-1960. Your job is to do various data munging operations on this dataset to clean it up and prepare it for several visualizations. You will then determine what code is needed to generate those visualizations."
      ]
    },
    {
      "cell_type": "code",
      "metadata": {
        "id": "b7JyR8TRp-mL",
        "colab_type": "code",
        "colab": {}
      },
      "source": [
        "from pydataset import data\n",
        "\n",
        "passengers = data('AirPassengers')"
      ],
      "execution_count": 0,
      "outputs": []
    },
    {
      "cell_type": "markdown",
      "metadata": {
        "id": "Za8LF_ubmIsV",
        "colab_type": "text"
      },
      "source": [
        "Ugh. When we examine the head of this datset, we can see that the years are in decimal form rather than month and year.\n",
        "\n",
        "NOTE: The times are represented by twelfths. i.e. 1949.00000 = 149 0/12 (January). 1949.083333 = 1949 1/12 (February), and so on."
      ]
    },
    {
      "cell_type": "code",
      "metadata": {
        "id": "551KQ43sQ9uf",
        "colab_type": "code",
        "outputId": "6d22489f-3ec7-48f6-da22-7c4998cb8922",
        "colab": {
          "base_uri": "https://localhost:8080/",
          "height": 421
        }
      },
      "source": [
        "passengers.head(12)"
      ],
      "execution_count": 0,
      "outputs": [
        {
          "output_type": "execute_result",
          "data": {
            "text/html": [
              "<div>\n",
              "<style scoped>\n",
              "    .dataframe tbody tr th:only-of-type {\n",
              "        vertical-align: middle;\n",
              "    }\n",
              "\n",
              "    .dataframe tbody tr th {\n",
              "        vertical-align: top;\n",
              "    }\n",
              "\n",
              "    .dataframe thead th {\n",
              "        text-align: right;\n",
              "    }\n",
              "</style>\n",
              "<table border=\"1\" class=\"dataframe\">\n",
              "  <thead>\n",
              "    <tr style=\"text-align: right;\">\n",
              "      <th></th>\n",
              "      <th>time</th>\n",
              "      <th>AirPassengers</th>\n",
              "    </tr>\n",
              "  </thead>\n",
              "  <tbody>\n",
              "    <tr>\n",
              "      <th>1</th>\n",
              "      <td>1949.000000</td>\n",
              "      <td>112</td>\n",
              "    </tr>\n",
              "    <tr>\n",
              "      <th>2</th>\n",
              "      <td>1949.083333</td>\n",
              "      <td>118</td>\n",
              "    </tr>\n",
              "    <tr>\n",
              "      <th>3</th>\n",
              "      <td>1949.166667</td>\n",
              "      <td>132</td>\n",
              "    </tr>\n",
              "    <tr>\n",
              "      <th>4</th>\n",
              "      <td>1949.250000</td>\n",
              "      <td>129</td>\n",
              "    </tr>\n",
              "    <tr>\n",
              "      <th>5</th>\n",
              "      <td>1949.333333</td>\n",
              "      <td>121</td>\n",
              "    </tr>\n",
              "    <tr>\n",
              "      <th>6</th>\n",
              "      <td>1949.416667</td>\n",
              "      <td>135</td>\n",
              "    </tr>\n",
              "    <tr>\n",
              "      <th>7</th>\n",
              "      <td>1949.500000</td>\n",
              "      <td>148</td>\n",
              "    </tr>\n",
              "    <tr>\n",
              "      <th>8</th>\n",
              "      <td>1949.583333</td>\n",
              "      <td>148</td>\n",
              "    </tr>\n",
              "    <tr>\n",
              "      <th>9</th>\n",
              "      <td>1949.666667</td>\n",
              "      <td>136</td>\n",
              "    </tr>\n",
              "    <tr>\n",
              "      <th>10</th>\n",
              "      <td>1949.750000</td>\n",
              "      <td>119</td>\n",
              "    </tr>\n",
              "    <tr>\n",
              "      <th>11</th>\n",
              "      <td>1949.833333</td>\n",
              "      <td>104</td>\n",
              "    </tr>\n",
              "    <tr>\n",
              "      <th>12</th>\n",
              "      <td>1949.916667</td>\n",
              "      <td>118</td>\n",
              "    </tr>\n",
              "  </tbody>\n",
              "</table>\n",
              "</div>"
            ],
            "text/plain": [
              "           time  AirPassengers\n",
              "1   1949.000000            112\n",
              "2   1949.083333            118\n",
              "3   1949.166667            132\n",
              "4   1949.250000            129\n",
              "5   1949.333333            121\n",
              "6   1949.416667            135\n",
              "7   1949.500000            148\n",
              "8   1949.583333            148\n",
              "9   1949.666667            136\n",
              "10  1949.750000            119\n",
              "11  1949.833333            104\n",
              "12  1949.916667            118"
            ]
          },
          "metadata": {
            "tags": []
          },
          "execution_count": 7
        }
      ]
    },
    {
      "cell_type": "markdown",
      "metadata": {
        "id": "5wnzkVC4kQnc",
        "colab_type": "text"
      },
      "source": [
        "## The decimal years complicate the EDA work\n",
        "\n",
        "We need to deal with this by making explicit month and year columns. It is common to have to reformat columns like this in a dataframe"
      ]
    },
    {
      "cell_type": "markdown",
      "metadata": {
        "id": "KbRfTZMUjzuP",
        "colab_type": "text"
      },
      "source": [
        "## #1 Add a 'year' column to passengers that reflects the current year"
      ]
    },
    {
      "cell_type": "code",
      "metadata": {
        "id": "CWyRNghdSI9I",
        "colab_type": "code",
        "outputId": "7621fdbf-b0a6-4ee3-be2a-3fd01a777efa",
        "colab": {
          "base_uri": "https://localhost:8080/",
          "height": 204
        }
      },
      "source": [
        "from math import floor\n",
        "from math import trunc\n",
        "years, year_fraction = divmod(passengers.time, 1)\n",
        "passengers['year']= years.apply(lambda x: floor(x))\n",
        "passengers.head()"
      ],
      "execution_count": 0,
      "outputs": [
        {
          "output_type": "execute_result",
          "data": {
            "text/html": [
              "<div>\n",
              "<style scoped>\n",
              "    .dataframe tbody tr th:only-of-type {\n",
              "        vertical-align: middle;\n",
              "    }\n",
              "\n",
              "    .dataframe tbody tr th {\n",
              "        vertical-align: top;\n",
              "    }\n",
              "\n",
              "    .dataframe thead th {\n",
              "        text-align: right;\n",
              "    }\n",
              "</style>\n",
              "<table border=\"1\" class=\"dataframe\">\n",
              "  <thead>\n",
              "    <tr style=\"text-align: right;\">\n",
              "      <th></th>\n",
              "      <th>time</th>\n",
              "      <th>AirPassengers</th>\n",
              "      <th>year</th>\n",
              "    </tr>\n",
              "  </thead>\n",
              "  <tbody>\n",
              "    <tr>\n",
              "      <th>1</th>\n",
              "      <td>1949.000000</td>\n",
              "      <td>112</td>\n",
              "      <td>1949</td>\n",
              "    </tr>\n",
              "    <tr>\n",
              "      <th>2</th>\n",
              "      <td>1949.083333</td>\n",
              "      <td>118</td>\n",
              "      <td>1949</td>\n",
              "    </tr>\n",
              "    <tr>\n",
              "      <th>3</th>\n",
              "      <td>1949.166667</td>\n",
              "      <td>132</td>\n",
              "      <td>1949</td>\n",
              "    </tr>\n",
              "    <tr>\n",
              "      <th>4</th>\n",
              "      <td>1949.250000</td>\n",
              "      <td>129</td>\n",
              "      <td>1949</td>\n",
              "    </tr>\n",
              "    <tr>\n",
              "      <th>5</th>\n",
              "      <td>1949.333333</td>\n",
              "      <td>121</td>\n",
              "      <td>1949</td>\n",
              "    </tr>\n",
              "  </tbody>\n",
              "</table>\n",
              "</div>"
            ],
            "text/plain": [
              "          time  AirPassengers  year\n",
              "1  1949.000000            112  1949\n",
              "2  1949.083333            118  1949\n",
              "3  1949.166667            132  1949\n",
              "4  1949.250000            129  1949\n",
              "5  1949.333333            121  1949"
            ]
          },
          "metadata": {
            "tags": []
          },
          "execution_count": 29
        }
      ]
    },
    {
      "cell_type": "markdown",
      "metadata": {
        "id": "1oVHWw-XkIKi",
        "colab_type": "text"
      },
      "source": [
        "## #2 Add a \"month\" column\n",
        "\n",
        "Set this up in such a way that January is represented with a 1, February with a 2, etc."
      ]
    },
    {
      "cell_type": "code",
      "metadata": {
        "id": "jRtzPhybR7Z0",
        "colab_type": "code",
        "outputId": "2f6bb99d-1573-43e3-fc67-cc26b8fbbec3",
        "colab": {
          "base_uri": "https://localhost:8080/",
          "height": 204
        }
      },
      "source": [
        "months = round(year_fraction * 12)\n",
        "passengers['months'] = months.apply(lambda x: floor(x) + 1) #plus 1 to adjust to correct month\n",
        "passengers.head()\n"
      ],
      "execution_count": 0,
      "outputs": [
        {
          "output_type": "execute_result",
          "data": {
            "text/html": [
              "<div>\n",
              "<style scoped>\n",
              "    .dataframe tbody tr th:only-of-type {\n",
              "        vertical-align: middle;\n",
              "    }\n",
              "\n",
              "    .dataframe tbody tr th {\n",
              "        vertical-align: top;\n",
              "    }\n",
              "\n",
              "    .dataframe thead th {\n",
              "        text-align: right;\n",
              "    }\n",
              "</style>\n",
              "<table border=\"1\" class=\"dataframe\">\n",
              "  <thead>\n",
              "    <tr style=\"text-align: right;\">\n",
              "      <th></th>\n",
              "      <th>time</th>\n",
              "      <th>AirPassengers</th>\n",
              "      <th>year</th>\n",
              "      <th>months</th>\n",
              "    </tr>\n",
              "  </thead>\n",
              "  <tbody>\n",
              "    <tr>\n",
              "      <th>1</th>\n",
              "      <td>1949.000000</td>\n",
              "      <td>112</td>\n",
              "      <td>1949</td>\n",
              "      <td>1</td>\n",
              "    </tr>\n",
              "    <tr>\n",
              "      <th>2</th>\n",
              "      <td>1949.083333</td>\n",
              "      <td>118</td>\n",
              "      <td>1949</td>\n",
              "      <td>2</td>\n",
              "    </tr>\n",
              "    <tr>\n",
              "      <th>3</th>\n",
              "      <td>1949.166667</td>\n",
              "      <td>132</td>\n",
              "      <td>1949</td>\n",
              "      <td>3</td>\n",
              "    </tr>\n",
              "    <tr>\n",
              "      <th>4</th>\n",
              "      <td>1949.250000</td>\n",
              "      <td>129</td>\n",
              "      <td>1949</td>\n",
              "      <td>4</td>\n",
              "    </tr>\n",
              "    <tr>\n",
              "      <th>5</th>\n",
              "      <td>1949.333333</td>\n",
              "      <td>121</td>\n",
              "      <td>1949</td>\n",
              "      <td>5</td>\n",
              "    </tr>\n",
              "  </tbody>\n",
              "</table>\n",
              "</div>"
            ],
            "text/plain": [
              "          time  AirPassengers  year  months\n",
              "1  1949.000000            112  1949       1\n",
              "2  1949.083333            118  1949       2\n",
              "3  1949.166667            132  1949       3\n",
              "4  1949.250000            129  1949       4\n",
              "5  1949.333333            121  1949       5"
            ]
          },
          "metadata": {
            "tags": []
          },
          "execution_count": 33
        }
      ]
    },
    {
      "cell_type": "markdown",
      "metadata": {
        "id": "utfFu-ZEmWqC",
        "colab_type": "text"
      },
      "source": [
        "## #3 Generate the plot below of passengers vs. time using each monthly count"
      ]
    },
    {
      "cell_type": "markdown",
      "metadata": {
        "id": "k1GXeWFrvRu3",
        "colab_type": "text"
      },
      "source": [
        "<a href='https://drive.google.com/file/d/1PdaXbkCVzUXBnUP6c6cLP3nZ94ShSLg1/view?usp=embed_facebook&source=ctrlq.org'><img src='https://lh4.googleusercontent.com/7EHckqyjefS7rN8-gAtj2SgSyKfV3wlTnGKqCwzOf85F6NYlqYQbz7bDfWw=w2400' /></a>"
      ]
    },
    {
      "cell_type": "code",
      "metadata": {
        "id": "rBTg_cjYchXx",
        "colab_type": "code",
        "outputId": "7aee7e24-535c-405b-f699-5135af507465",
        "colab": {
          "base_uri": "https://localhost:8080/",
          "height": 308
        }
      },
      "source": [
        "plt.plot(passengers['AirPassengers'])\n",
        "plt.ylabel('Hundreds of thousands')\n",
        "plt.xlabel('Month')\n",
        "plt.suptitle('Number of Airline Passengers 1949-1960')\n",
        "plt.show()"
      ],
      "execution_count": 0,
      "outputs": [
        {
          "output_type": "display_data",
          "data": {
            "image/png": "[encoded data removed]",
            "text/plain": [
              "<Figure size 432x288 with 1 Axes>"
            ]
          },
          "metadata": {
            "tags": []
          }
        }
      ]
    },
    {
      "cell_type": "markdown",
      "metadata": {
        "id": "TBN2gDr0mirA",
        "colab_type": "text"
      },
      "source": [
        "## #4 Generate the plot below of passengers vs. time using an annual count"
      ]
    },
    {
      "cell_type": "markdown",
      "metadata": {
        "id": "ZbBkmkqGhXDM",
        "colab_type": "text"
      },
      "source": [
        "<a href='https://drive.google.com/file/d/19WYHQR7sFgaeN5ZHlwx5x1-o-wxJ4weW/view?usp=sharing&amp;usp=embed_facebook&source=ctrlq.org'><img src='https://lh4.googleusercontent.com/2gbHNgm8UhbCEevaUBpMUSvVgk_6QuxMASqn9-wK1NdzrDXrcF-VIWK_o08=w2400' /></a>"
      ]
    },
    {
      "cell_type": "code",
      "metadata": {
        "id": "hm5yM1ZRchcP",
        "colab_type": "code",
        "outputId": "3fe6c192-d0ac-40e7-9571-6c0a35055278",
        "colab": {
          "base_uri": "https://localhost:8080/",
          "height": 308
        }
      },
      "source": [
        "byYear = passengers.groupby('year').sum()[['AirPassengers']]\n",
        "plt.plot(byYear['AirPassengers'])\n",
        "plt.ylabel('Hundreds of thousands')\n",
        "plt.xlabel('Year')\n",
        "plt.suptitle('Number of Airline Passengers 1949-1960')\n",
        "plt.show()"
      ],
      "execution_count": 0,
      "outputs": [
        {
          "output_type": "display_data",
          "data": {
            "image/png": "[encoded data removed]",
            "text/plain": [
              "<Figure size 432x288 with 1 Axes>"
            ]
          },
          "metadata": {
            "tags": []
          }
        }
      ]
    },
    {
      "cell_type": "markdown",
      "metadata": {
        "id": "UhgoE32QmvOT",
        "colab_type": "text"
      },
      "source": [
        "## #5 Generate the barplot below of passengers by year"
      ]
    },
    {
      "cell_type": "markdown",
      "metadata": {
        "id": "Uzx6rfephZfH",
        "colab_type": "text"
      },
      "source": [
        "<a href='https://drive.google.com/file/d/1-4NF40zvVhwi6RWagJu98BaBuDNOXaEd/view?usp=sharing&amp;usp=embed_facebook&source=ctrlq.org'><img src='https://lh6.googleusercontent.com/IQRk35KApDIxYtHGH3WoczLnCvHCRdMNlHw64rgLWPYUostOoAn2hxp8lZA=w2400' /></a>"
      ]
    },
    {
      "cell_type": "code",
      "metadata": {
        "id": "EiQRmMUrhqc_",
        "colab_type": "code",
        "outputId": "86bf0368-03aa-437d-a2b7-3ac73212995a",
        "colab": {
          "base_uri": "https://localhost:8080/",
          "height": 308
        }
      },
      "source": [
        "plt.bar(x = byYear.index, height = byYear['AirPassengers'])\n",
        "plt.ylabel('Hundreds of thousands')\n",
        "plt.xlabel('Year')\n",
        "plt.suptitle('Number of Airline Passengers 1949-1960')\n",
        "plt.show()"
      ],
      "execution_count": 0,
      "outputs": [
        {
          "output_type": "display_data",
          "data": {
            "image/png": "[encoded data removed]",
            "text/plain": [
              "<Figure size 432x288 with 1 Axes>"
            ]
          },
          "metadata": {
            "tags": []
          }
        }
      ]
    },
    {
      "cell_type": "markdown",
      "metadata": {
        "id": "E_nSuT-lm2eD",
        "colab_type": "text"
      },
      "source": [
        "## #6 Generate the histogram below of monthly passengers\n",
        "\n",
        "**Additional requirements:**\n",
        "\n",
        "* Only include 1955 and beyond\n",
        "* Use a binwidth of 50, a min of 200, and a max of 700\n",
        "* Set the yticks to start at 0, end at 25 by interval of 5"
      ]
    },
    {
      "cell_type": "markdown",
      "metadata": {
        "id": "722_suwhjTn7",
        "colab_type": "text"
      },
      "source": [
        "<a href='https://drive.google.com/file/d/1mEtvUbnh2LcDDc73LNr_qX984HzgyhiQ/view?usp=sharing&amp;usp=embed_facebook&source=ctrlq.org'><img src='https://lh6.googleusercontent.com/7I2FzRPSQPyoalFcwH3vTDeB9Gf80OUlaZOs1x9oRRYyQLlHXPU9H-NhSVQ=w2400' /></a>"
      ]
    },
    {
      "cell_type": "code",
      "metadata": {
        "id": "ftWwUO2xchgS",
        "colab_type": "code",
        "outputId": "76d2c7a6-7fee-47e0-9ae6-2d4de1f08d1c",
        "colab": {
          "base_uri": "https://localhost:8080/",
          "height": 308
        }
      },
      "source": [
        "plt.hist(passengers['AirPassengers'][passengers['year']>1954], bins=np.arange(200, 700, 50)) \n",
        "plt.xlabel('Hundreds of thousands')\n",
        "plt.ylabel('count')\n",
        "plt.yticks(np.arange(0, 25, 5))\n",
        "plt.suptitle('Distribution of Monthly Airline Passengers 1955-1960')\n",
        "plt.show()"
      ],
      "execution_count": 0,
      "outputs": [
        {
          "output_type": "display_data",
          "data": {
            "image/png": "[encoded data removed]",
            "text/plain": [
              "<Figure size 432x288 with 1 Axes>"
            ]
          },
          "metadata": {
            "tags": []
          }
        }
      ]
    },
    {
      "cell_type": "markdown",
      "metadata": {
        "id": "3hjNa7QanRw9",
        "colab_type": "text"
      },
      "source": [
        "## #7 Generate the histogram below of monthly passengers\n",
        "\n",
        "**Additional requirements:**\n",
        "\n",
        "* Generate two groups to compare. Group 1 should be the years 1949-1950. Group 2 should be the years 1959-60.\n",
        "* Binwidth of 50 from 100 to 700\n",
        "* yticks from 0 to 24, spaced by 2\n",
        "* Be sure to include a legend"
      ]
    },
    {
      "cell_type": "markdown",
      "metadata": {
        "id": "ngsm2iZDjxOY",
        "colab_type": "text"
      },
      "source": [
        "<a href='https://drive.google.com/file/d/1gqJbBVOPIurYikUIDpXoAF3gZx2p8lUA/view?usp=sharing&amp;usp=embed_facebook&source=ctrlq.org'><img src='https://lh3.googleusercontent.com/Ok91nFY8Srjn1FpVwOil9ycH9y6isZejTqi7hifqaEA5E3tWpkwldWVLo3U=w2400' /></a>"
      ]
    },
    {
      "cell_type": "code",
      "metadata": {
        "id": "rPa1CQzrchk7",
        "colab_type": "code",
        "outputId": "493825ea-d45e-4399-a7e3-8366ed7c8978",
        "colab": {
          "base_uri": "https://localhost:8080/",
          "height": 308
        }
      },
      "source": [
        "x = passengers['AirPassengers'][passengers['year']>1958]\n",
        "y = passengers['AirPassengers'][passengers['year']<1951]\n",
        "\n",
        "plt.hist(x, bins=np.arange(100, 700, 50), label = '1959-1960') \n",
        "plt.hist(y, bins=np.arange(100, 700, 50), label = '1949-1950') \n",
        "plt.xlabel('Hundreds of thousands')\n",
        "plt.ylabel('count')\n",
        "plt.legend(loc='upper right')\n",
        "plt.yticks(np.arange(0, 24, 2))\n",
        "plt.suptitle('Air Passenger distr. beginning and end of decade')\n",
        "plt.show()"
      ],
      "execution_count": 0,
      "outputs": [
        {
          "output_type": "display_data",
          "data": {
            "image/png": "[encoded data removed]",
            "text/plain": [
              "<Figure size 432x288 with 1 Axes>"
            ]
          },
          "metadata": {
            "tags": []
          }
        }
      ]
    },
    {
      "cell_type": "markdown",
      "metadata": {
        "id": "fpdrlfEhnijm",
        "colab_type": "text"
      },
      "source": [
        "## #8 Generate the time plot below\n",
        "\n",
        "**Additional requirements:**\n",
        "\n",
        "* Compare 1950, 1955, and 1960 by month"
      ]
    },
    {
      "cell_type": "markdown",
      "metadata": {
        "id": "dUKGfwnWksbP",
        "colab_type": "text"
      },
      "source": [
        "<a href='https://drive.google.com/file/d/11nVH5EiYxxtJ48isS9VLtwLIjn0hALXV/view?usp=sharing&amp;usp=embed_facebook&source=ctrlq.org'><img src='https://lh3.googleusercontent.com/SKfWqBE324A__VS8V-TBqMQXHWE9OUjVoJyeyJME8uJzyfWS73aaCms7A3c=w2400' /></a>"
      ]
    },
    {
      "cell_type": "code",
      "metadata": {
        "id": "lRzhSibJkCWZ",
        "colab_type": "code",
        "outputId": "7614c940-7c04-4267-875d-698a93af5abe",
        "colab": {
          "base_uri": "https://localhost:8080/",
          "height": 308
        }
      },
      "source": [
        "a = passengers[passengers['year'] == 1950]\n",
        "b = passengers[passengers['year'] == 1955]\n",
        "c = passengers[passengers['year'] == 1960]\n",
        "plt.plot(a['months'], a['AirPassengers'],  label = '1950')\n",
        "plt.plot(b['months'], b['AirPassengers'],  label = '1955')\n",
        "plt.plot(c['months'], c['AirPassengers'],  label = '1960')\n",
        "\n",
        "plt.ylabel('Hundreds of thousands')\n",
        "plt.xlabel('Month')\n",
        "plt.legend(loc='upper right')\n",
        "plt.suptitle('Air Passenger by month beginning, mid and end of decade')\n",
        "plt.show()"
      ],
      "execution_count": 0,
      "outputs": [
        {
          "output_type": "display_data",
          "data": {
            "image/png": "[encoded data removed]",
            "text/plain": [
              "<Figure size 432x288 with 1 Axes>"
            ]
          },
          "metadata": {
            "tags": []
          }
        }
      ]
    },
    {
      "cell_type": "markdown",
      "metadata": {
        "id": "m-Kq84DKpRdy",
        "colab_type": "text"
      },
      "source": [
        "## #9 Tell a story\n",
        "\n",
        "* If you could only use one of these plots to tell a story about air travel trends mid-centry, which would you use and why?\n"
      ]
    },
    {
      "cell_type": "code",
      "metadata": {
        "id": "3OEXegrnQhKp",
        "colab_type": "code",
        "outputId": "8ea3b28a-a6f0-4b31-a590-4723e7a8a678",
        "colab": {
          "base_uri": "https://localhost:8080/",
          "height": 54
        }
      },
      "source": [
        "print('I would use the plot from #3 because it shows how airpassenger growth has increased from the beginning through the end of the decade, but also showing how seasonality trends are similar but more drastic the further through the decade. Bottom line, air travel increased drastically throughout the decade with more severe seasonality trends in the summer months.' )"
      ],
      "execution_count": 0,
      "outputs": [
        {
          "output_type": "stream",
          "text": [
            "I would use the plot from #3 because it shows how airpassenger growth has increased from the beginning through the end of the decade, but also showing how seasonality trends are similar but more drastic the further through the decade. Bottom line, air travel increased drastically throughout the decade with more severe seasonality trends in the summer months.\n"
          ],
          "name": "stdout"
        }
      ]
    }
  ]
}