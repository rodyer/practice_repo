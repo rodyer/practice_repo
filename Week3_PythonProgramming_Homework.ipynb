{
  "nbformat": 4,
  "nbformat_minor": 0,
  "metadata": {
    "kernelspec": {
      "display_name": "Python 3",
      "language": "python",
      "name": "python3"
    },
    "language_info": {
      "codemirror_mode": {
        "name": "ipython",
        "version": 3
      },
      "file_extension": ".py",
      "mimetype": "text/x-python",
      "name": "python",
      "nbconvert_exporter": "python",
      "pygments_lexer": "ipython3",
      "version": "3.7.3"
    },
    "colab": {
      "name": "Week3_PythonProgramming_Homework.ipynb",
      "version": "0.3.2",
      "provenance": []
    }
  },
  "cells": [
    {
      "cell_type": "markdown",
      "metadata": {
        "id": "fXc0Hx1LDRE9",
        "colab_type": "text"
      },
      "source": [
        "# Week3 Python Programming"
      ]
    },
    {
      "cell_type": "markdown",
      "metadata": {
        "id": "gI7-vCnxDRFD",
        "colab_type": "text"
      },
      "source": [
        "In week3, we've covered:\n",
        "* **Data structures**:\n",
        "    * List\n",
        "    * Tuples\n",
        "    * Dictionary\n",
        "* **Function**:\n",
        "    * Define function without parameter\n",
        "        * **def** func():\n",
        "    * Define function with parameter\n",
        "        * **def** func(param):\n",
        "* **Control flow**:\n",
        "    * if, elif, else\n",
        "    * for\n",
        "    * while"
      ]
    },
    {
      "cell_type": "markdown",
      "metadata": {
        "id": "iJmNFEWKDRFI",
        "colab_type": "text"
      },
      "source": [
        "The best way to consolidate the knowledge in your mind is by practing.<br>Please complete the part marked with <span style=\"color:green\">**# TODO**</span>.\n",
        "\n",
        "[Google](www.google.com) and [Python Documentation](https://docs.python.org/3/contents.html) are your good friends if you have any python questions.\n",
        "\n",
        "Upload **Week3_PythonProgramming_Homework.ipynb** notebook to your Google Drive and open it with Google Colab"
      ]
    },
    {
      "cell_type": "markdown",
      "metadata": {
        "id": "g_XRDqzjDRFN",
        "colab_type": "text"
      },
      "source": [
        "# List\n",
        "[List Documentation](https://www.w3schools.com/python/python_lists.asp)  "
      ]
    },
    {
      "cell_type": "markdown",
      "metadata": {
        "id": "N00XQHb5DRFR",
        "colab_type": "text"
      },
      "source": [
        "### 1. Fill the ___ parts of code below"
      ]
    },
    {
      "cell_type": "code",
      "metadata": {
        "id": "fnNunxoXDRFV",
        "colab_type": "code",
        "outputId": "ba7fb637-2320-4472-f21d-b96e3c03e729",
        "colab": {
          "base_uri": "https://localhost:8080/",
          "height": 34
        }
      },
      "source": [
        "# TODO\n",
        "# Let's create an empty list\n",
        "my_list = []\n",
        "\n",
        "# Let's add some values\n",
        "my_list.append('Python')\n",
        "my_list.append('is ok')\n",
        "my_list.append('sometimes')\n",
        "\n",
        "# Let's remove 'sometimes'\n",
        "my_list.remove('sometimes')\n",
        "\n",
        "# Let's change the second item\n",
        "my_list[1] = 'is neat'\n",
        "print(my_list)"
      ],
      "execution_count": 0,
      "outputs": [
        {
          "output_type": "stream",
          "text": [
            "['Python', 'is neat']\n"
          ],
          "name": "stdout"
        }
      ]
    },
    {
      "cell_type": "code",
      "metadata": {
        "id": "ay62thaUFFRZ",
        "colab_type": "code",
        "colab": {}
      },
      "source": [
        "# Let's verify that it's correct\n",
        "assert my_list == ['Python', 'is neat']"
      ],
      "execution_count": 0,
      "outputs": []
    },
    {
      "cell_type": "markdown",
      "metadata": {
        "id": "EONzbnqRDRFs",
        "colab_type": "text"
      },
      "source": [
        "### 2. Create a new list without modifiying the original one"
      ]
    },
    {
      "cell_type": "code",
      "metadata": {
        "id": "-3L9XXbYDRFv",
        "colab_type": "code",
        "colab": {}
      },
      "source": [
        "original = ['I', 'am', 'learning', 'hacking', 'in']"
      ],
      "execution_count": 0,
      "outputs": []
    },
    {
      "cell_type": "code",
      "metadata": {
        "id": "zrFgScLBDRF1",
        "colab_type": "code",
        "colab": {}
      },
      "source": [
        "modified = original.copy()\n",
        "modified[3] = 'lists'\n",
        "modified.append('Python')\n"
      ],
      "execution_count": 0,
      "outputs": []
    },
    {
      "cell_type": "code",
      "metadata": {
        "id": "NXKeoKWBDRF5",
        "colab_type": "code",
        "colab": {}
      },
      "source": [
        "assert original == ['I', 'am', 'learning', 'hacking', 'in']\n",
        "assert modified == ['I', 'am', 'learning', 'lists', 'in', 'Python']"
      ],
      "execution_count": 0,
      "outputs": []
    },
    {
      "cell_type": "markdown",
      "metadata": {
        "id": "HUpEGjXDDRF-",
        "colab_type": "text"
      },
      "source": [
        "### 3. Create a merged sorted list"
      ]
    },
    {
      "cell_type": "code",
      "metadata": {
        "id": "-_KUIQknDRF_",
        "colab_type": "code",
        "colab": {}
      },
      "source": [
        "list1 = [6, 12, 5]\n",
        "list2 = [6.2, 0, 14, 1]\n",
        "list3 = [0.9]"
      ],
      "execution_count": 0,
      "outputs": []
    },
    {
      "cell_type": "code",
      "metadata": {
        "id": "Vb4NDWEBDRGD",
        "colab_type": "code",
        "colab": {}
      },
      "source": [
        "my_list = list1 + list2 + list3\n",
        "my_list.sort(reverse=True)\n"
      ],
      "execution_count": 0,
      "outputs": []
    },
    {
      "cell_type": "code",
      "metadata": {
        "id": "tXtNmbqgDRGJ",
        "colab_type": "code",
        "outputId": "19edfc9c-73e8-4a63-ab5b-252377ee92ea",
        "colab": {
          "base_uri": "https://localhost:8080/",
          "height": 34
        }
      },
      "source": [
        "print(my_list)\n",
        "assert my_list == [14, 12, 6.2, 6, 5, 1, 0.9, 0]"
      ],
      "execution_count": 0,
      "outputs": [
        {
          "output_type": "stream",
          "text": [
            "[14, 12, 6.2, 6, 5, 1, 0.9, 0]\n"
          ],
          "name": "stdout"
        }
      ]
    },
    {
      "cell_type": "markdown",
      "metadata": {
        "id": "MFsa7Wu6DRGU",
        "colab_type": "text"
      },
      "source": [
        "### 4. Loop through a list  \n",
        "[For Loops Documentation](https://www.w3schools.com/python/python_for_loops.asp)  \n",
        "[While Loops Documentation](https://www.w3schools.com/python/python_while_loops.asp)"
      ]
    },
    {
      "cell_type": "markdown",
      "metadata": {
        "id": "wnTGsa3QDRGV",
        "colab_type": "text"
      },
      "source": [
        "Loop through a list and check:\n",
        "* If an item is a float, cast the float to int.\n",
        "* If an item is an int, cast the int to float\n",
        "* Hint: use isinstance()"
      ]
    },
    {
      "cell_type": "code",
      "metadata": {
        "id": "Jg7V9o3L_Pda",
        "colab_type": "code",
        "colab": {}
      },
      "source": [
        "loop_list1 = [1101, 704.971, 'Fort Mill']\n",
        "lst = []\n",
        "for x in loop_list1:\n",
        "  if isinstance(x, int):\n",
        "    x = float(x)\n",
        "    lst.append(x)\n",
        "  elif isinstance(x, float):\n",
        "    x = int(x)\n",
        "    lst.append(x)\n",
        "  else: lst.append(x)\n",
        "loop_list1 = lst\n",
        "# use for loop\n"
      ],
      "execution_count": 0,
      "outputs": []
    },
    {
      "cell_type": "code",
      "metadata": {
        "id": "MWmlqBTIDRGa",
        "colab_type": "code",
        "outputId": "e798d270-5a5e-4a8e-ec2b-d35838cdb010",
        "colab": {
          "base_uri": "https://localhost:8080/",
          "height": 34
        }
      },
      "source": [
        "print(loop_list1)\n",
        "assert loop_list1 == [1101.0, 704, 'Fort Mill']"
      ],
      "execution_count": 0,
      "outputs": [
        {
          "output_type": "stream",
          "text": [
            "[1101.0, 704, 'Fort Mill']\n"
          ],
          "name": "stdout"
        }
      ]
    },
    {
      "cell_type": "code",
      "metadata": {
        "id": "GZeZlI-KDRGc",
        "colab_type": "code",
        "outputId": "5c0c8c4a-e433-45b4-daeb-fac5c578a99b",
        "colab": {
          "base_uri": "https://localhost:8080/",
          "height": 231
        }
      },
      "source": [
        "loop_list2 = [1101, 704.971, 'Fort Mill']\n",
        "# TODO\n",
        "# use while loop\n",
        "lst = []\n",
        "x = 0\n",
        "while x <= len(loop_list2):\n",
        "  lst.append(x)\n",
        "  if isinstance(x, int):\n",
        "    x = float(x)\n",
        "    #lst.append(x)\n",
        "  elif isinstance(x, float):\n",
        "    x = int(x)\n",
        "    #lst.append(x)\n",
        "  else: #lst.append(x)\n",
        "    x+=1\n",
        "  x+=1\n",
        "loop_list2 = lst\n",
        "  \n",
        "print(loop_list2)"
      ],
      "execution_count": 0,
      "outputs": [
        {
          "output_type": "error",
          "ename": "TypeError",
          "evalue": "ignored",
          "traceback": [
            "\u001b[0;31m---------------------------------------------------------------------------\u001b[0m",
            "\u001b[0;31mTypeError\u001b[0m                                 Traceback (most recent call last)",
            "\u001b[0;32m<ipython-input-304-4e36341b7e0d>\u001b[0m in \u001b[0;36m<module>\u001b[0;34m()\u001b[0m\n\u001b[1;32m      6\u001b[0m \u001b[0;32mwhile\u001b[0m \u001b[0mx\u001b[0m \u001b[0;34m<=\u001b[0m \u001b[0mlen\u001b[0m\u001b[0;34m(\u001b[0m\u001b[0mloop_list2\u001b[0m\u001b[0;34m)\u001b[0m\u001b[0;34m:\u001b[0m\u001b[0;34m\u001b[0m\u001b[0;34m\u001b[0m\u001b[0m\n\u001b[1;32m      7\u001b[0m   \u001b[0mlst\u001b[0m\u001b[0;34m.\u001b[0m\u001b[0mappend\u001b[0m\u001b[0;34m(\u001b[0m\u001b[0mx\u001b[0m\u001b[0;34m)\u001b[0m\u001b[0;34m\u001b[0m\u001b[0;34m\u001b[0m\u001b[0m\n\u001b[0;32m----> 8\u001b[0;31m   \u001b[0;32mif\u001b[0m \u001b[0misinstance\u001b[0m\u001b[0;34m(\u001b[0m\u001b[0mloop_list2\u001b[0m\u001b[0;34m[\u001b[0m\u001b[0mx\u001b[0m\u001b[0;34m]\u001b[0m\u001b[0;34m,\u001b[0m \u001b[0mint\u001b[0m\u001b[0;34m)\u001b[0m\u001b[0;34m:\u001b[0m\u001b[0;34m\u001b[0m\u001b[0;34m\u001b[0m\u001b[0m\n\u001b[0m\u001b[1;32m      9\u001b[0m     \u001b[0mx\u001b[0m \u001b[0;34m=\u001b[0m \u001b[0mfloat\u001b[0m\u001b[0;34m(\u001b[0m\u001b[0mx\u001b[0m\u001b[0;34m)\u001b[0m\u001b[0;34m\u001b[0m\u001b[0;34m\u001b[0m\u001b[0m\n\u001b[1;32m     10\u001b[0m     \u001b[0;31m#lst.append(x)\u001b[0m\u001b[0;34m\u001b[0m\u001b[0;34m\u001b[0m\u001b[0;34m\u001b[0m\u001b[0m\n",
            "\u001b[0;31mTypeError\u001b[0m: list indices must be integers or slices, not float"
          ]
        }
      ]
    },
    {
      "cell_type": "code",
      "metadata": {
        "id": "fKheIHbLD_JW",
        "colab_type": "code",
        "outputId": "24766c00-5a82-43f4-d4b3-ce5153cdd612",
        "colab": {
          "base_uri": "https://localhost:8080/",
          "height": 51
        }
      },
      "source": [
        "loop_list2 = [1101, 704.971, 'Fort Mill']\n",
        "print(loop_list2)\n",
        "lst = []\n",
        "x = 0\n",
        "while x <= len(loop_list2):\n",
        "  y = loop_list2[x]\n",
        "  x+=1\n",
        "  \n",
        "  if isinstance(y, int):\n",
        "    y = float(y)\n",
        "    lst.append(y)\n",
        "  elif isinstance(y, float):\n",
        "    y = int(y)\n",
        "    lst.append(y)\n",
        "  else: lst.append(y)\n",
        "  x+=1\n",
        "\n",
        "loop_list2 = lst\n",
        "  \n",
        "print(loop_list2)"
      ],
      "execution_count": 0,
      "outputs": [
        {
          "output_type": "stream",
          "text": [
            "[1101, 704.971, 'Fort Mill']\n",
            "[1101.0, 'Fort Mill']\n"
          ],
          "name": "stdout"
        }
      ]
    },
    {
      "cell_type": "code",
      "metadata": {
        "id": "xR0HfgFbDRGf",
        "colab_type": "code",
        "outputId": "e741bb55-1034-4104-8b3a-843ba89508a6",
        "colab": {
          "base_uri": "https://localhost:8080/",
          "height": 197
        }
      },
      "source": [
        "print(loop_list2)\n",
        "assert loop_list2 == [1101.0, 704, 'Fort Mill']"
      ],
      "execution_count": 0,
      "outputs": [
        {
          "output_type": "stream",
          "text": [
            "[1101.0, 'Fort Mill']\n"
          ],
          "name": "stdout"
        },
        {
          "output_type": "error",
          "ename": "AssertionError",
          "evalue": "ignored",
          "traceback": [
            "\u001b[0;31m---------------------------------------------------------------------------\u001b[0m",
            "\u001b[0;31mAssertionError\u001b[0m                            Traceback (most recent call last)",
            "\u001b[0;32m<ipython-input-327-2a5cb9aa9f1e>\u001b[0m in \u001b[0;36m<module>\u001b[0;34m()\u001b[0m\n\u001b[1;32m      1\u001b[0m \u001b[0mprint\u001b[0m\u001b[0;34m(\u001b[0m\u001b[0mloop_list2\u001b[0m\u001b[0;34m)\u001b[0m\u001b[0;34m\u001b[0m\u001b[0;34m\u001b[0m\u001b[0m\n\u001b[0;32m----> 2\u001b[0;31m \u001b[0;32massert\u001b[0m \u001b[0mloop_list2\u001b[0m \u001b[0;34m==\u001b[0m \u001b[0;34m[\u001b[0m\u001b[0;36m1101.0\u001b[0m\u001b[0;34m,\u001b[0m \u001b[0;36m704\u001b[0m\u001b[0;34m,\u001b[0m \u001b[0;34m'Fort Mill'\u001b[0m\u001b[0;34m]\u001b[0m\u001b[0;34m\u001b[0m\u001b[0;34m\u001b[0m\u001b[0m\n\u001b[0m",
            "\u001b[0;31mAssertionError\u001b[0m: "
          ]
        }
      ]
    },
    {
      "cell_type": "markdown",
      "metadata": {
        "id": "3jDg0K_ADRGi",
        "colab_type": "text"
      },
      "source": [
        "# Tuples\n",
        "[Tuples Documentation](https://www.w3schools.com/python/python_tuples.asp)"
      ]
    },
    {
      "cell_type": "markdown",
      "metadata": {
        "id": "MYRvqNI2DRGi",
        "colab_type": "text"
      },
      "source": [
        "### 1. Fill the ___ parts of code below"
      ]
    },
    {
      "cell_type": "code",
      "metadata": {
        "id": "gksQpQ9dDRGj",
        "colab_type": "code",
        "outputId": "e4ec19de-ff82-41f4-fc3a-26d38e4a0b8d",
        "colab": {
          "base_uri": "https://localhost:8080/",
          "height": 68
        }
      },
      "source": [
        "# TODO\n",
        "# create a tuple with items of different data types\n",
        "my_tuple = (\"Robyn\", 25, True)\n",
        "print(my_tuple, type(my_tuple))\n",
        "\n",
        "# Unpack my_tuple in several variables\n",
        "x,y,z = my_tuple\n",
        "\n",
        "# convert my_tuple to list and assign to variable my_list\n",
        "my_list = list(my_tuple)\n",
        "print(my_list, type(my_list))\n",
        "\n",
        "# convert my_list to tuple and assign to variable my_new_tuple\n",
        "my_new_tuple = tuple(my_list)\n",
        "print(my_new_tuple, type(my_new_tuple))"
      ],
      "execution_count": 0,
      "outputs": [
        {
          "output_type": "stream",
          "text": [
            "('Robyn', 25, True) <class 'tuple'>\n",
            "['Robyn', 25, True] <class 'list'>\n",
            "('Robyn', 25, True) <class 'tuple'>\n"
          ],
          "name": "stdout"
        }
      ]
    },
    {
      "cell_type": "markdown",
      "metadata": {
        "id": "axCjGgdUDRGl",
        "colab_type": "text"
      },
      "source": [
        "### 2. Check the immutable property of tuple"
      ]
    },
    {
      "cell_type": "code",
      "metadata": {
        "id": "NaU5wr3EDRGm",
        "colab_type": "code",
        "outputId": "1eb30e63-dcf3-433d-bad4-97a9e4c85df6",
        "colab": {
          "base_uri": "https://localhost:8080/",
          "height": 153
        }
      },
      "source": [
        "# TODO\n",
        "rv_tuple = 1101, 'Red', 'Ventures', 'Drive'\n",
        "print(rv_tuple, type(rv_tuple))\n",
        "# check id\n",
        "print(id(rv_tuple))\n",
        "# modify the variable\n",
        "rv_tuple = rv_tuple + (29707, )\n",
        "print(rv_tuple, type(rv_tuple))\n",
        "# check id\n",
        "print(id(rv_tuple))\n",
        "\n",
        "# TODO\n",
        "# Do the same exercises as above for a list and see the difference\n",
        "# Remember list is muttable\n",
        "# List ex\n",
        "rv_list = [\"Red\", \"Ventures\"]\n",
        "print(rv_list, type(rv_list))\n",
        "# check id\n",
        "print(id(rv_list))\n",
        "# modify the variable\n",
        "rv_list = rv_list + ['29707', ]\n",
        "print(rv_list, type(rv_list))\n",
        "# check id\n",
        "print(id(rv_list))\n"
      ],
      "execution_count": 0,
      "outputs": [
        {
          "output_type": "stream",
          "text": [
            "(1101, 'Red', 'Ventures', 'Drive') <class 'tuple'>\n",
            "140066939513656\n",
            "(1101, 'Red', 'Ventures', 'Drive', 29707) <class 'tuple'>\n",
            "140066950175912\n",
            "['Red', 'Ventures'] <class 'list'>\n",
            "140066939689608\n",
            "['Red', 'Ventures', '29707'] <class 'list'>\n",
            "140066939450376\n"
          ],
          "name": "stdout"
        }
      ]
    },
    {
      "cell_type": "markdown",
      "metadata": {
        "id": "c5gF2GUSDRGo",
        "colab_type": "text"
      },
      "source": [
        "### 3. Define Functions  \n",
        "\n",
        "[Functions Documentation](https://www.w3schools.com/python/python_functions.asp)\n",
        "\n",
        "Write a function that accepts a string and return the number of uppercase letters and lowercase letters."
      ]
    },
    {
      "cell_type": "code",
      "metadata": {
        "id": "Cc7L9GBiDRGp",
        "colab_type": "code",
        "colab": {}
      },
      "source": [
        "# TODO\n",
        "def check_case(string):\n",
        "  lowercase_number = 0\n",
        "  uppercase_number = 0\n",
        "  for letter in string:\n",
        "    if letter.isupper():\n",
        "      uppercase_number += 1\n",
        "    elif letter.islower():\n",
        "      lowercase_number += 1\n",
        "  return uppercase_number, lowercase_number\n"
      ],
      "execution_count": 0,
      "outputs": []
    },
    {
      "cell_type": "code",
      "metadata": {
        "id": "0uDMHzt1DRGr",
        "colab_type": "code",
        "colab": {}
      },
      "source": [
        "my_string = \"This is Week3 Python Programming Homework.\"\n",
        "assert check_case(my_string)[0] == 5\n",
        "assert check_case(my_string)[1] == 30"
      ],
      "execution_count": 0,
      "outputs": []
    },
    {
      "cell_type": "markdown",
      "metadata": {
        "id": "uHhy0QAYDRGu",
        "colab_type": "text"
      },
      "source": [
        "## Dictionary\n",
        "[Dictionary Documentation](https://www.w3schools.com/python/python_dictionaries.asp)"
      ]
    },
    {
      "cell_type": "markdown",
      "metadata": {
        "id": "d4QbkYN_DRGw",
        "colab_type": "text"
      },
      "source": [
        "### 1. Fill the ___ parts of code below"
      ]
    },
    {
      "cell_type": "code",
      "metadata": {
        "id": "YZ3FT0zJDRGw",
        "colab_type": "code",
        "outputId": "48f62600-a494-49bc-c6ae-8f6a0de180e4",
        "colab": {
          "base_uri": "https://localhost:8080/",
          "height": 85
        }
      },
      "source": [
        "# TODO\n",
        "# create an empty dictionary\n",
        "my_dict = {}\n",
        "print(my_dict, type(my_dict))\n",
        "\n",
        "# create a dictionary with values\n",
        "my_dict = {\"FirstName\": \"Robyn\",\"LastName\": \"Dyer\"}\n",
        "print(my_dict, type(my_dict))\n",
        "\n",
        "# add key/value to my_dict\n",
        "my_dict[\"Year\"] = \"1994\"\n",
        "print(my_dict)\n",
        "\n",
        "# remove the key you added from my_dict\n",
        "my_dict.pop(\"Year\")\n",
        "print(my_dict)"
      ],
      "execution_count": 0,
      "outputs": [
        {
          "output_type": "stream",
          "text": [
            "{} <class 'dict'>\n",
            "{'FirstName': 'Robyn', 'LastName': 'Dyer'} <class 'dict'>\n",
            "{'FirstName': 'Robyn', 'LastName': 'Dyer', 'Year': '1994'}\n",
            "{'FirstName': 'Robyn', 'LastName': 'Dyer'}\n"
          ],
          "name": "stdout"
        }
      ]
    },
    {
      "cell_type": "markdown",
      "metadata": {
        "id": "-uJGM0T5DRG1",
        "colab_type": "text"
      },
      "source": [
        "### 2. Sort Dictionary\n",
        "\n",
        "Print out key/value pair by the ascending order of keys."
      ]
    },
    {
      "cell_type": "code",
      "metadata": {
        "id": "gh70g9ldDRG2",
        "colab_type": "code",
        "outputId": "b31dec2b-e67e-468b-e6cb-acaa6934c93b",
        "colab": {
          "base_uri": "https://localhost:8080/",
          "height": 34
        }
      },
      "source": [
        "location_dict = {'Charlotte': 'NC', 'Austin': 'TX', 'New York': 'NY', 'Los Angeles': 'CA'}\n",
        "for i in sorted (location_dict) : \n",
        "    print ((i, location_dict[i]), end =\" \") \n",
        "\n"
      ],
      "execution_count": 0,
      "outputs": [
        {
          "output_type": "stream",
          "text": [
            "('Austin', 'TX') ('Charlotte', 'NC') ('Los Angeles', 'CA') ('New York', 'NY') "
          ],
          "name": "stdout"
        }
      ]
    },
    {
      "cell_type": "markdown",
      "metadata": {
        "id": "auFZWwzQDRG4",
        "colab_type": "text"
      },
      "source": [
        "Sort the location_dict by the desending order of keys and assign it to a new variable location_dict_new"
      ]
    },
    {
      "cell_type": "code",
      "metadata": {
        "id": "tmRtnrG4DRG5",
        "colab_type": "code",
        "outputId": "442ad25d-8ce6-40fe-9608-69a375fc898a",
        "colab": {
          "base_uri": "https://localhost:8080/",
          "height": 34
        }
      },
      "source": [
        "# TODO\n",
        "location_dict = {'Charlotte': 'NC', 'Austin': 'TX', 'New York': 'NY', 'Los Angeles': 'CA'}\n",
        "for i in sorted (location_dict, reverse=True) : \n",
        "  location_dict_new = {i: location_dict[i]}\n",
        "  print(location_dict_new, end =\" \")\n"
      ],
      "execution_count": 0,
      "outputs": [
        {
          "output_type": "stream",
          "text": [
            "{'New York': 'NY'} {'Los Angeles': 'CA'} {'Charlotte': 'NC'} {'Austin': 'TX'} "
          ],
          "name": "stdout"
        }
      ]
    },
    {
      "cell_type": "markdown",
      "metadata": {
        "id": "DiduCJDCDRG8",
        "colab_type": "text"
      },
      "source": [
        "## Set"
      ]
    },
    {
      "cell_type": "markdown",
      "metadata": {
        "id": "uR7XdtIJDRG-",
        "colab_type": "text"
      },
      "source": [
        "Though `set` is not covered in the video materials, it is also one of the major data structures in Python.\n",
        "\n",
        "[Set Documentation](https://www.w3schools.com/python/python_sets.asp)"
      ]
    },
    {
      "cell_type": "markdown",
      "metadata": {
        "id": "RbV6Z_HuDRHC",
        "colab_type": "text"
      },
      "source": [
        "### 1. Fill the ____ parts of code below"
      ]
    },
    {
      "cell_type": "code",
      "metadata": {
        "id": "SIPkHVxzDRHD",
        "colab_type": "code",
        "outputId": "b777a7e2-e4e3-4400-f279-614e25aeaa12",
        "colab": {
          "base_uri": "https://localhost:8080/",
          "height": 153
        }
      },
      "source": [
        "# TODO\n",
        "# create an set\n",
        "my_set = {\"\"}\n",
        "print(my_set, type(my_set), '\\n')\n",
        "\n",
        "# create a set with values\n",
        "my_set = {\"Robyn\", \"Leigh\", \"Dyer\"}\n",
        "print(my_set, type(my_set), '\\n')\n",
        "\n",
        "# add a new value to my_set\n",
        "# the value should be a different\n",
        "my_set.add(\"Name\")\n",
        "print(my_set, '\\n')\n",
        "\n",
        "\n",
        "# remove the value you added from my_set\n",
        "my_set.remove(\"Name\")\n",
        "print(my_set, '\\n')"
      ],
      "execution_count": 0,
      "outputs": [
        {
          "output_type": "stream",
          "text": [
            "{''} <class 'set'> \n",
            "\n",
            "{'Dyer', 'Leigh', 'Robyn'} <class 'set'> \n",
            "\n",
            "{'Dyer', 'Name', 'Leigh', 'Robyn'} \n",
            "\n",
            "{'Dyer', 'Leigh', 'Robyn'} \n",
            "\n"
          ],
          "name": "stdout"
        }
      ]
    },
    {
      "cell_type": "markdown",
      "metadata": {
        "id": "G5xc0vUkDRHH",
        "colab_type": "text"
      },
      "source": [
        "### 2. Set Manipulation"
      ]
    },
    {
      "cell_type": "markdown",
      "metadata": {
        "id": "P2UfObgDDRHI",
        "colab_type": "text"
      },
      "source": [
        "Use a list  with duplicated values and a tuple to create two sets respectivley, and get a union set between those two."
      ]
    },
    {
      "cell_type": "code",
      "metadata": {
        "id": "1uDYtxQBDRHJ",
        "colab_type": "code",
        "colab": {}
      },
      "source": [
        "# TODO\n"
      ],
      "execution_count": 0,
      "outputs": []
    },
    {
      "cell_type": "markdown",
      "metadata": {
        "id": "TSYOOWyFDRHL",
        "colab_type": "text"
      },
      "source": [
        "Create two sets `my_set1` and `my_set2`, and get values in `my_set1` but not in `my_set2`."
      ]
    },
    {
      "cell_type": "code",
      "metadata": {
        "id": "LN7W4vN5DRHM",
        "colab_type": "code",
        "colab": {}
      },
      "source": [
        "# TODO\n"
      ],
      "execution_count": 0,
      "outputs": []
    },
    {
      "cell_type": "markdown",
      "metadata": {
        "id": "qT8kc9Q5DRHP",
        "colab_type": "text"
      },
      "source": [
        "## Submission\n",
        "\n",
        "Download completed **Week3_PythonProgramming_Homework.ipynb** from Google Colab and commit to your personal Github repo you shared with the faculty."
      ]
    }
  ]
}