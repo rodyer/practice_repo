{
  "nbformat": 4,
  "nbformat_minor": 0,
  "metadata": {
    "kernelspec": {
      "display_name": "Python 3",
      "language": "python",
      "name": "python3"
    },
    "language_info": {
      "codemirror_mode": {
        "name": "ipython",
        "version": 3
      },
      "file_extension": ".py",
      "mimetype": "text/x-python",
      "name": "python",
      "nbconvert_exporter": "python",
      "pygments_lexer": "ipython3",
      "version": "3.7.3"
    },
    "colab": {
      "name": "Week3_PythonProgramming_Homework.ipynb",
      "version": "0.3.2",
      "provenance": []
    }
  },
  "cells": [
    {
      "cell_type": "markdown",
      "metadata": {
        "id": "fXc0Hx1LDRE9",
        "colab_type": "text"
      },
      "source": [
        "# Week3 Python Programming"
      ]
    },
    {
      "cell_type": "markdown",
      "metadata": {
        "id": "gI7-vCnxDRFD",
        "colab_type": "text"
      },
      "source": [
        "In week3, we've covered:\n",
        "* **Data structures**:\n",
        "    * List\n",
        "    * Tuples\n",
        "    * Dictionary\n",
        "* **Function**:\n",
        "    * Define function without parameter\n",
        "        * **def** func():\n",
        "    * Define function with parameter\n",
        "        * **def** func(param):\n",
        "* **Control flow**:\n",
        "    * if, elif, else\n",
        "    * for\n",
        "    * while"
      ]
    },
    {
      "cell_type": "markdown",
      "metadata": {
        "id": "iJmNFEWKDRFI",
        "colab_type": "text"
      },
      "source": [
        "The best way to consolidate the knowledge in your mind is by practing.<br>Please complete the part marked with <span style=\"color:green\">**# TODO**</span>.\n",
        "\n",
        "[Google](www.google.com) and [Python Documentation](https://docs.python.org/3/contents.html) are your good friends if you have any python questions.\n",
        "\n",
        "Upload **Week3_PythonProgramming_Homework.ipynb** notebook to your Google Drive and open it with Google Colab"
      ]
    },
    {
      "cell_type": "markdown",
      "metadata": {
        "id": "g_XRDqzjDRFN",
        "colab_type": "text"
      },
      "source": [
        "# List\n",
        "[List Documentation](https://www.w3schools.com/python/python_lists.asp)  "
      ]
    },
    {
      "cell_type": "markdown",
      "metadata": {
        "id": "N00XQHb5DRFR",
        "colab_type": "text"
      },
      "source": [
        "### 1. Fill the ___ parts of code below"
      ]
    },
    {
      "cell_type": "code",
      "metadata": {
        "id": "fnNunxoXDRFV",
        "colab_type": "code",
        "outputId": "0f341490-086a-4bc6-a7d1-6b64b4ed0397",
        "colab": {
          "base_uri": "https://localhost:8080/",
          "height": 34
        }
      },
      "source": [
        "# TODO\n",
        "# Let's create an empty list\n",
        "my_list = []\n",
        "\n",
        "# Let's add some values\n",
        "my_list.append('Python')\n",
        "my_list.append('is ok')\n",
        "my_list.append('sometimes')\n",
        "\n",
        "# Let's remove 'sometimes'\n",
        "my_list.remove('sometimes')\n",
        "\n",
        "# Let's change the second item\n",
        "my_list[1] = 'is neat'\n",
        "print(my_list)"
      ],
      "execution_count": 163,
      "outputs": [
        {
          "output_type": "stream",
          "text": [
            "['Python', 'is neat']\n"
          ],
          "name": "stdout"
        }
      ]
    },
    {
      "cell_type": "code",
      "metadata": {
        "id": "ay62thaUFFRZ",
        "colab_type": "code",
        "colab": {}
      },
      "source": [
        "# Let's verify that it's correct\n",
        "assert my_list == ['Python', 'is neat']"
      ],
      "execution_count": 0,
      "outputs": []
    },
    {
      "cell_type": "markdown",
      "metadata": {
        "id": "EONzbnqRDRFs",
        "colab_type": "text"
      },
      "source": [
        "### 2. Create a new list without modifiying the original one"
      ]
    },
    {
      "cell_type": "code",
      "metadata": {
        "id": "-3L9XXbYDRFv",
        "colab_type": "code",
        "colab": {}
      },
      "source": [
        "original = ['I', 'am', 'learning', 'hacking', 'in']"
      ],
      "execution_count": 0,
      "outputs": []
    },
    {
      "cell_type": "code",
      "metadata": {
        "id": "zrFgScLBDRF1",
        "colab_type": "code",
        "colab": {}
      },
      "source": [
        "modified = original.copy()\n",
        "modified[3] = 'lists'\n",
        "modified.append('Python')\n"
      ],
      "execution_count": 0,
      "outputs": []
    },
    {
      "cell_type": "code",
      "metadata": {
        "id": "NXKeoKWBDRF5",
        "colab_type": "code",
        "colab": {}
      },
      "source": [
        "assert original == ['I', 'am', 'learning', 'hacking', 'in']\n",
        "assert modified == ['I', 'am', 'learning', 'lists', 'in', 'Python']"
      ],
      "execution_count": 0,
      "outputs": []
    },
    {
      "cell_type": "markdown",
      "metadata": {
        "id": "HUpEGjXDDRF-",
        "colab_type": "text"
      },
      "source": [
        "### 3. Create a merged sorted list"
      ]
    },
    {
      "cell_type": "code",
      "metadata": {
        "id": "-_KUIQknDRF_",
        "colab_type": "code",
        "colab": {}
      },
      "source": [
        "list1 = [6, 12, 5]\n",
        "list2 = [6.2, 0, 14, 1]\n",
        "list3 = [0.9]"
      ],
      "execution_count": 0,
      "outputs": []
    },
    {
      "cell_type": "code",
      "metadata": {
        "id": "Vb4NDWEBDRGD",
        "colab_type": "code",
        "colab": {}
      },
      "source": [
        "my_list = list1 + list2 + list3\n",
        "my_list.sort(reverse=True)\n"
      ],
      "execution_count": 0,
      "outputs": []
    },
    {
      "cell_type": "code",
      "metadata": {
        "id": "tXtNmbqgDRGJ",
        "colab_type": "code",
        "outputId": "f5cd037b-18ed-4810-e3b0-f6c62b4e23ea",
        "colab": {
          "base_uri": "https://localhost:8080/",
          "height": 34
        }
      },
      "source": [
        "print(my_list)\n",
        "assert my_list == [14, 12, 6.2, 6, 5, 1, 0.9, 0]"
      ],
      "execution_count": 170,
      "outputs": [
        {
          "output_type": "stream",
          "text": [
            "[14, 12, 6.2, 6, 5, 1, 0.9, 0]\n"
          ],
          "name": "stdout"
        }
      ]
    },
    {
      "cell_type": "markdown",
      "metadata": {
        "id": "MFsa7Wu6DRGU",
        "colab_type": "text"
      },
      "source": [
        "### 4. Loop through a list  \n",
        "[For Loops Documentation](https://www.w3schools.com/python/python_for_loops.asp)  \n",
        "[While Loops Documentation](https://www.w3schools.com/python/python_while_loops.asp)"
      ]
    },
    {
      "cell_type": "markdown",
      "metadata": {
        "id": "wnTGsa3QDRGV",
        "colab_type": "text"
      },
      "source": [
        "Loop through a list and check:\n",
        "* If an item is a float, cast the float to int.\n",
        "* If an item is an int, cast the int to float\n",
        "* Hint: use isinstance()"
      ]
    },
    {
      "cell_type": "code",
      "metadata": {
        "id": "Jg7V9o3L_Pda",
        "colab_type": "code",
        "colab": {}
      },
      "source": [
        "loop_list1 = [1101, 704.971, 'Fort Mill']\n",
        "lst = []\n",
        "for x in loop_list1:\n",
        "  if isinstance(x, int):\n",
        "    x = float(x)\n",
        "    lst.append(x)\n",
        "  elif isinstance(x, float):\n",
        "    x = int(x)\n",
        "    lst.append(x)\n",
        "  else: lst.append(x)\n",
        "loop_list1 = lst\n",
        "# use for loop\n"
      ],
      "execution_count": 0,
      "outputs": []
    },
    {
      "cell_type": "code",
      "metadata": {
        "id": "MWmlqBTIDRGa",
        "colab_type": "code",
        "outputId": "76fa0dc7-9d48-4f06-e3ad-a5da1a10bf85",
        "colab": {
          "base_uri": "https://localhost:8080/",
          "height": 34
        }
      },
      "source": [
        "print(loop_list1)\n",
        "assert loop_list1 == [1101.0, 704, 'Fort Mill']"
      ],
      "execution_count": 172,
      "outputs": [
        {
          "output_type": "stream",
          "text": [
            "[1101.0, 704, 'Fort Mill']\n"
          ],
          "name": "stdout"
        }
      ]
    },
    {
      "cell_type": "code",
      "metadata": {
        "id": "fKheIHbLD_JW",
        "colab_type": "code",
        "outputId": "f473cde9-c250-4478-8bb6-8c50848e0e64",
        "colab": {
          "base_uri": "https://localhost:8080/",
          "height": 51
        }
      },
      "source": [
        "loop_list2 = [1101, 704.971, 'Fort Mill']\n",
        "print(loop_list2)\n",
        "lst = []\n",
        "x = 0\n",
        "while x < len(loop_list2):\n",
        "  y = loop_list2[x]\n",
        "  if isinstance(y, int):\n",
        "    y = float(y)\n",
        "    lst.append(y)\n",
        "  elif isinstance(y, float):\n",
        "    y = int(loop_list2[x])\n",
        "    lst.append(y)\n",
        "  else: lst.append(y)\n",
        "  x+=1\n",
        "\n",
        "loop_list2 = lst\n",
        "  \n",
        "print(loop_list2)"
      ],
      "execution_count": 173,
      "outputs": [
        {
          "output_type": "stream",
          "text": [
            "[1101, 704.971, 'Fort Mill']\n",
            "[1101.0, 704, 'Fort Mill']\n"
          ],
          "name": "stdout"
        }
      ]
    },
    {
      "cell_type": "code",
      "metadata": {
        "id": "xR0HfgFbDRGf",
        "colab_type": "code",
        "outputId": "fd47cbe9-3f86-4bfe-8f42-0658275fcc9b",
        "colab": {
          "base_uri": "https://localhost:8080/",
          "height": 34
        }
      },
      "source": [
        "print(loop_list2)\n",
        "assert loop_list2 == [1101.0, 704, 'Fort Mill']"
      ],
      "execution_count": 174,
      "outputs": [
        {
          "output_type": "stream",
          "text": [
            "[1101.0, 704, 'Fort Mill']\n"
          ],
          "name": "stdout"
        }
      ]
    },
    {
      "cell_type": "markdown",
      "metadata": {
        "id": "3jDg0K_ADRGi",
        "colab_type": "text"
      },
      "source": [
        "# Tuples\n",
        "[Tuples Documentation](https://www.w3schools.com/python/python_tuples.asp)"
      ]
    },
    {
      "cell_type": "markdown",
      "metadata": {
        "id": "MYRvqNI2DRGi",
        "colab_type": "text"
      },
      "source": [
        "### 1. Fill the ___ parts of code below"
      ]
    },
    {
      "cell_type": "code",
      "metadata": {
        "id": "gksQpQ9dDRGj",
        "colab_type": "code",
        "outputId": "1898e47f-568d-468c-a831-c8e976f1ad9b",
        "colab": {
          "base_uri": "https://localhost:8080/",
          "height": 68
        }
      },
      "source": [
        "# TODO\n",
        "# create a tuple with items of different data types\n",
        "my_tuple = (\"Robyn\", 25, True)\n",
        "print(my_tuple, type(my_tuple))\n",
        "\n",
        "# Unpack my_tuple in several variables\n",
        "x,y,z = my_tuple\n",
        "\n",
        "# convert my_tuple to list and assign to variable my_list\n",
        "my_list = list(my_tuple)\n",
        "print(my_list, type(my_list))\n",
        "\n",
        "# convert my_list to tuple and assign to variable my_new_tuple\n",
        "my_new_tuple = tuple(my_list)\n",
        "print(my_new_tuple, type(my_new_tuple))"
      ],
      "execution_count": 175,
      "outputs": [
        {
          "output_type": "stream",
          "text": [
            "('Robyn', 25, True) <class 'tuple'>\n",
            "['Robyn', 25, True] <class 'list'>\n",
            "('Robyn', 25, True) <class 'tuple'>\n"
          ],
          "name": "stdout"
        }
      ]
    },
    {
      "cell_type": "markdown",
      "metadata": {
        "id": "axCjGgdUDRGl",
        "colab_type": "text"
      },
      "source": [
        "### 2. Check the immutable property of tuple"
      ]
    },
    {
      "cell_type": "code",
      "metadata": {
        "id": "NaU5wr3EDRGm",
        "colab_type": "code",
        "outputId": "81ff2ec1-a2c6-4d4c-ecba-3a5c5c327448",
        "colab": {
          "base_uri": "https://localhost:8080/",
          "height": 153
        }
      },
      "source": [
        "# TODO\n",
        "rv_tuple = 1101, 'Red', 'Ventures', 'Drive'\n",
        "print(rv_tuple, type(rv_tuple))\n",
        "# check id\n",
        "print(id(rv_tuple))\n",
        "# modify the variable\n",
        "rv_tuple = rv_tuple + (29707, )\n",
        "print(rv_tuple, type(rv_tuple))\n",
        "# check id\n",
        "print(id(rv_tuple))\n",
        "\n",
        "# TODO\n",
        "# Do the same exercises as above for a list and see the difference\n",
        "# Remember list is muttable\n",
        "# List ex\n",
        "rv_list = [\"Red\", \"Ventures\"]\n",
        "print(rv_list, type(rv_list))\n",
        "# check id\n",
        "print(id(rv_list))\n",
        "# modify the variable\n",
        "rv_list = rv_list + ['29707', ]\n",
        "print(rv_list, type(rv_list))\n",
        "# check id\n",
        "print(id(rv_list))\n"
      ],
      "execution_count": 176,
      "outputs": [
        {
          "output_type": "stream",
          "text": [
            "(1101, 'Red', 'Ventures', 'Drive') <class 'tuple'>\n",
            "140029557217384\n",
            "(1101, 'Red', 'Ventures', 'Drive', 29707) <class 'tuple'>\n",
            "140029567394832\n",
            "['Red', 'Ventures'] <class 'list'>\n",
            "140029557617160\n",
            "['Red', 'Ventures', '29707'] <class 'list'>\n",
            "140029557231432\n"
          ],
          "name": "stdout"
        }
      ]
    },
    {
      "cell_type": "markdown",
      "metadata": {
        "id": "c5gF2GUSDRGo",
        "colab_type": "text"
      },
      "source": [
        "### 3. Define Functions  \n",
        "\n",
        "[Functions Documentation](https://www.w3schools.com/python/python_functions.asp)\n",
        "\n",
        "Write a function that accepts a string and return the number of uppercase letters and lowercase letters."
      ]
    },
    {
      "cell_type": "code",
      "metadata": {
        "id": "Cc7L9GBiDRGp",
        "colab_type": "code",
        "colab": {}
      },
      "source": [
        "# TODO\n",
        "def check_case(string):\n",
        "  lowercase_number = 0\n",
        "  uppercase_number = 0\n",
        "  for letter in string:\n",
        "    if letter.isupper():\n",
        "      uppercase_number += 1\n",
        "    elif letter.islower():\n",
        "      lowercase_number += 1\n",
        "  return uppercase_number, lowercase_number\n"
      ],
      "execution_count": 0,
      "outputs": []
    },
    {
      "cell_type": "code",
      "metadata": {
        "id": "0uDMHzt1DRGr",
        "colab_type": "code",
        "colab": {}
      },
      "source": [
        "my_string = \"This is Week3 Python Programming Homework.\"\n",
        "assert check_case(my_string)[0] == 5\n",
        "assert check_case(my_string)[1] == 30"
      ],
      "execution_count": 0,
      "outputs": []
    },
    {
      "cell_type": "markdown",
      "metadata": {
        "id": "uHhy0QAYDRGu",
        "colab_type": "text"
      },
      "source": [
        "## Dictionary\n",
        "[Dictionary Documentation](https://www.w3schools.com/python/python_dictionaries.asp)"
      ]
    },
    {
      "cell_type": "markdown",
      "metadata": {
        "id": "d4QbkYN_DRGw",
        "colab_type": "text"
      },
      "source": [
        "### 1. Fill the ___ parts of code below"
      ]
    },
    {
      "cell_type": "code",
      "metadata": {
        "id": "YZ3FT0zJDRGw",
        "colab_type": "code",
        "outputId": "b38dbe86-3974-4baf-ef61-6cee96adb689",
        "colab": {
          "base_uri": "https://localhost:8080/",
          "height": 85
        }
      },
      "source": [
        "# TODO\n",
        "# create an empty dictionary\n",
        "my_dict = {}\n",
        "print(my_dict, type(my_dict))\n",
        "\n",
        "# create a dictionary with values\n",
        "my_dict = {\"FirstName\": \"Robyn\",\"LastName\": \"Dyer\"}\n",
        "print(my_dict, type(my_dict))\n",
        "\n",
        "# add key/value to my_dict\n",
        "my_dict[\"Year\"] = \"1994\"\n",
        "print(my_dict)\n",
        "\n",
        "# remove the key you added from my_dict\n",
        "my_dict.pop(\"Year\")\n",
        "print(my_dict)"
      ],
      "execution_count": 179,
      "outputs": [
        {
          "output_type": "stream",
          "text": [
            "{} <class 'dict'>\n",
            "{'FirstName': 'Robyn', 'LastName': 'Dyer'} <class 'dict'>\n",
            "{'FirstName': 'Robyn', 'LastName': 'Dyer', 'Year': '1994'}\n",
            "{'FirstName': 'Robyn', 'LastName': 'Dyer'}\n"
          ],
          "name": "stdout"
        }
      ]
    },
    {
      "cell_type": "markdown",
      "metadata": {
        "id": "-uJGM0T5DRG1",
        "colab_type": "text"
      },
      "source": [
        "### 2. Sort Dictionary\n",
        "\n",
        "Print out key/value pair by the ascending order of keys."
      ]
    },
    {
      "cell_type": "code",
      "metadata": {
        "id": "gh70g9ldDRG2",
        "colab_type": "code",
        "outputId": "9cb71b32-10f0-4b63-e7e0-31e23a0d48aa",
        "colab": {
          "base_uri": "https://localhost:8080/",
          "height": 34
        }
      },
      "source": [
        "location_dict = {'Charlotte': 'NC', 'Austin': 'TX', 'New York': 'NY', 'Los Angeles': 'CA'}\n",
        "for i in sorted (location_dict) : \n",
        "    print ((i, location_dict[i]), end =\" \") \n",
        "\n"
      ],
      "execution_count": 180,
      "outputs": [
        {
          "output_type": "stream",
          "text": [
            "('Austin', 'TX') ('Charlotte', 'NC') ('Los Angeles', 'CA') ('New York', 'NY') "
          ],
          "name": "stdout"
        }
      ]
    },
    {
      "cell_type": "markdown",
      "metadata": {
        "id": "auFZWwzQDRG4",
        "colab_type": "text"
      },
      "source": [
        "Sort the location_dict by the desending order of keys and assign it to a new variable location_dict_new"
      ]
    },
    {
      "cell_type": "code",
      "metadata": {
        "id": "tmRtnrG4DRG5",
        "colab_type": "code",
        "outputId": "60d23638-1b95-4b52-d18d-8d7ff4f422b8",
        "colab": {
          "base_uri": "https://localhost:8080/",
          "height": 34
        }
      },
      "source": [
        "# TODO\n",
        "location_dict = {'Charlotte': 'NC', 'Austin': 'TX', 'New York': 'NY', 'Los Angeles': 'CA'}\n",
        "for i in sorted (location_dict, reverse=True) : \n",
        "  location_dict_new = {i: location_dict[i]}\n",
        "  print(location_dict_new, end =\" \")\n"
      ],
      "execution_count": 181,
      "outputs": [
        {
          "output_type": "stream",
          "text": [
            "{'New York': 'NY'} {'Los Angeles': 'CA'} {'Charlotte': 'NC'} {'Austin': 'TX'} "
          ],
          "name": "stdout"
        }
      ]
    },
    {
      "cell_type": "markdown",
      "metadata": {
        "id": "DiduCJDCDRG8",
        "colab_type": "text"
      },
      "source": [
        "## Set"
      ]
    },
    {
      "cell_type": "markdown",
      "metadata": {
        "id": "uR7XdtIJDRG-",
        "colab_type": "text"
      },
      "source": [
        "Though `set` is not covered in the video materials, it is also one of the major data structures in Python.\n",
        "\n",
        "[Set Documentation](https://www.w3schools.com/python/python_sets.asp)"
      ]
    },
    {
      "cell_type": "markdown",
      "metadata": {
        "id": "RbV6Z_HuDRHC",
        "colab_type": "text"
      },
      "source": [
        "### 1. Fill the ____ parts of code below"
      ]
    },
    {
      "cell_type": "code",
      "metadata": {
        "id": "SIPkHVxzDRHD",
        "colab_type": "code",
        "outputId": "358ccf86-29c4-4fc3-dc99-d77b0947a7e5",
        "colab": {
          "base_uri": "https://localhost:8080/",
          "height": 153
        }
      },
      "source": [
        "# TODO\n",
        "# create an set\n",
        "my_set = {''}\n",
        "print(my_set, type(my_set), '\\n')\n",
        "\n",
        "# create a set with values\n",
        "my_set = {\"Robyn\", \"Leigh\", \"Dyer\"}\n",
        "print(my_set, type(my_set), '\\n')\n",
        "\n",
        "# add a new value to my_set\n",
        "# the value should be a different\n",
        "my_set.add(\"Name\")\n",
        "print(my_set, '\\n')\n",
        "\n",
        "\n",
        "# remove the value you added from my_set\n",
        "my_set.remove(\"Name\")\n",
        "print(my_set, '\\n')"
      ],
      "execution_count": 182,
      "outputs": [
        {
          "output_type": "stream",
          "text": [
            "{''} <class 'set'> \n",
            "\n",
            "{'Leigh', 'Dyer', 'Robyn'} <class 'set'> \n",
            "\n",
            "{'Leigh', 'Name', 'Dyer', 'Robyn'} \n",
            "\n",
            "{'Leigh', 'Dyer', 'Robyn'} \n",
            "\n"
          ],
          "name": "stdout"
        }
      ]
    },
    {
      "cell_type": "markdown",
      "metadata": {
        "id": "G5xc0vUkDRHH",
        "colab_type": "text"
      },
      "source": [
        "### 2. Set Manipulation"
      ]
    },
    {
      "cell_type": "markdown",
      "metadata": {
        "id": "P2UfObgDDRHI",
        "colab_type": "text"
      },
      "source": [
        "Use a list  with duplicated values and a tuple to create two sets respectivley, and get a union set between those two."
      ]
    },
    {
      "cell_type": "code",
      "metadata": {
        "id": "1uDYtxQBDRHJ",
        "colab_type": "code",
        "colab": {
          "base_uri": "https://localhost:8080/",
          "height": 34
        },
        "outputId": "d14441c2-bc4e-4652-e154-6732fbad6962"
      },
      "source": [
        "# TODO\n",
        "duplist = [1, 2, 3, 3, 4, 5]\n",
        "atuple = (1, 2, 3, 4, 6)\n",
        "set1 = set(duplist)\n",
        "set2 = set(atuple)\n",
        "unionset = set().union(set1, set2)\n",
        "print(unionset, type(unionset))"
      ],
      "execution_count": 183,
      "outputs": [
        {
          "output_type": "stream",
          "text": [
            "{1, 2, 3, 4, 5, 6} <class 'set'>\n"
          ],
          "name": "stdout"
        }
      ]
    },
    {
      "cell_type": "markdown",
      "metadata": {
        "id": "TSYOOWyFDRHL",
        "colab_type": "text"
      },
      "source": [
        "Create two sets `my_set1` and `my_set2`, and get values in `my_set1` but not in `my_set2`."
      ]
    },
    {
      "cell_type": "code",
      "metadata": {
        "id": "LN7W4vN5DRHM",
        "colab_type": "code",
        "colab": {
          "base_uri": "https://localhost:8080/",
          "height": 34
        },
        "outputId": "13f707ac-3529-40c2-dfd2-57eddca7db00"
      },
      "source": [
        "# TODO\n",
        "my_set1 = {'a', 'b', 'c'}\n",
        "my_set2 = {'b', 'c', 'd', 'e'}\n",
        "# return items in set1 that are not in set2\n",
        "setoneonly = my_set1 - my_set2\n",
        "print(setoneonly)"
      ],
      "execution_count": 184,
      "outputs": [
        {
          "output_type": "stream",
          "text": [
            "{'a'}\n"
          ],
          "name": "stdout"
        }
      ]
    },
    {
      "cell_type": "markdown",
      "metadata": {
        "id": "qT8kc9Q5DRHP",
        "colab_type": "text"
      },
      "source": [
        "## Submission\n",
        "\n",
        "Download completed **Week3_PythonProgramming_Homework.ipynb** from Google Colab and commit to your personal Github repo you shared with the faculty."
      ]
    }
  ]
}